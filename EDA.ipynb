{
  "nbformat": 4,
  "nbformat_minor": 0,
  "metadata": {
    "colab": {
      "provenance": [],
      "include_colab_link": true
    },
    "kernelspec": {
      "name": "python3",
      "display_name": "Python 3"
    },
    "language_info": {
      "name": "python"
    }
  },
  "cells": [
    {
      "cell_type": "markdown",
      "metadata": {
        "id": "view-in-github",
        "colab_type": "text"
      },
      "source": [
        "<a href=\"https://colab.research.google.com/github/mrjakhi/SIADS-capstone-building-damage-detection-TEAM-GOONERS-/blob/main/EDA.ipynb\" target=\"_parent\"><img src=\"https://colab.research.google.com/assets/colab-badge.svg\" alt=\"Open In Colab\"/></a>"
      ]
    },
    {
      "cell_type": "code",
      "execution_count": 59,
      "metadata": {
        "id": "jAt1O2wJHCtG"
      },
      "outputs": [],
      "source": [
        "import json\n",
        "import os\n",
        "import random\n",
        "import shutil\n",
        "import time\n",
        "from matplotlib.collections import PatchCollection\n",
        "from matplotlib.patches import Polygon\n",
        "import matplotlib.pyplot as plt\n",
        "import numpy as np\n",
        "import pandas as pd\n",
        "pd.set_option('display.max_columns', None)\n",
        "from PIL import Image\n",
        "import shapely.wkt\n",
        "from tqdm import tqdm\n",
        "import sys\n",
        "import os\n",
        "from google.colab import drive\n",
        "from main_mod_Collab import ann_dictionary_ann_df"
      ]
    },
    {
      "cell_type": "code",
      "source": [
        "## connect to google drive\n",
        "drive.mount('/content/gdrive/', force_remount=True)"
      ],
      "metadata": {
        "colab": {
          "base_uri": "https://localhost:8080/"
        },
        "id": "ATHE-RCMmLuG",
        "outputId": "185d35c7-9de7-48a7-bdae-78d0c3753375"
      },
      "execution_count": 60,
      "outputs": [
        {
          "output_type": "stream",
          "name": "stdout",
          "text": [
            "Mounted at /content/gdrive/\n"
          ]
        }
      ]
    },
    {
      "cell_type": "code",
      "source": [
        "sys.path.append('/content/gdrive/My Drive/MADS_CourseWork/Capstone/Capstone/')\n",
        "files = os.listdir(\"/content/gdrive/My Drive/MADS_CourseWork/Capstone/Capstone/\")\n",
        "files"
      ],
      "metadata": {
        "id": "DnGlsoXPoXXB",
        "colab": {
          "base_uri": "https://localhost:8080/"
        },
        "outputId": "8b53dea9-11e6-43c5-faef-211abb05f325"
      },
      "execution_count": 65,
      "outputs": [
        {
          "output_type": "execute_result",
          "data": {
            "text/plain": [
              "['EDA.ipynb',\n",
              " 'Data',\n",
              " 'train',\n",
              " 'test',\n",
              " 'hold',\n",
              " 'main.py',\n",
              " 'main_mod_Collab.py',\n",
              " '__pycache__']"
            ]
          },
          "metadata": {},
          "execution_count": 65
        }
      ]
    },
    {
      "cell_type": "code",
      "source": [
        "train_images = os.listdir(\"/content/gdrive/My Drive/MADS_CourseWork/Capstone/Capstone/Data/train/images\")\n",
        "train_labels =  os.listdir(\"/content/gdrive/My Drive/MADS_CourseWork/Capstone/Capstone/Data/train/labels\")\n",
        "print(\"Number of images for traininig: \", len(train_images_path))"
      ],
      "metadata": {
        "colab": {
          "base_uri": "https://localhost:8080/"
        },
        "id": "4M9rMAmVoXjL",
        "outputId": "6218590b-2bc1-469f-97c6-55735224fa3d"
      },
      "execution_count": 62,
      "outputs": [
        {
          "output_type": "stream",
          "name": "stdout",
          "text": [
            "Number of images for traininig:  5598\n"
          ]
        }
      ]
    },
    {
      "cell_type": "code",
      "source": [],
      "metadata": {
        "id": "Da5TB4dLoXnF"
      },
      "execution_count": 68,
      "outputs": []
    },
    {
      "cell_type": "code",
      "source": [
        "train_images_path = r\"/content/gdrive/My Drive/MADS_CourseWork/Capstone/Capstone/Data/train/images\"\n",
        "train_labels_path =  r\"/content/gdrive/My Drive/MADS_CourseWork/Capstone/Capstone/Data/train/labels\""
      ],
      "metadata": {
        "id": "cCT3zkKn5TMo"
      },
      "execution_count": 74,
      "outputs": []
    },
    {
      "cell_type": "code",
      "source": [
        "train_df = ann_dictionary_ann_df(train_labels_path)"
      ],
      "metadata": {
        "id": "sb6imiLcoXs2",
        "colab": {
          "base_uri": "https://localhost:8080/"
        },
        "outputId": "0fb5439c-1317-405c-a120-890a378af500"
      },
      "execution_count": 77,
      "outputs": [
        {
          "output_type": "stream",
          "name": "stdout",
          "text": [
            "Loading annotations into memory...\n",
            "Done (t=160.83s)\n",
            "Creating annotation dataframe...\n",
            "Done (t=7.50s)\n"
          ]
        }
      ]
    },
    {
      "cell_type": "code",
      "source": [
        "train_df"
      ],
      "metadata": {
        "colab": {
          "base_uri": "https://localhost:8080/",
          "height": 1000
        },
        "id": "yvxxCV1s8Ter",
        "outputId": "f20ad423-f0a5-465e-d584-95764d824f10"
      },
      "execution_count": 79,
      "outputs": [
        {
          "output_type": "execute_result",
          "data": {
            "text/plain": [
              "        obj_type    img_id  type  \\\n",
              "0       building  00000000  post   \n",
              "1       building  00000000  post   \n",
              "2       building  00000000  post   \n",
              "3       building  00000000  post   \n",
              "4       building  00000000  post   \n",
              "...          ...       ...   ...   \n",
              "325569  building  00001397   pre   \n",
              "325570  building  00001397   pre   \n",
              "325571  building  00001397   pre   \n",
              "325572  building  00001397   pre   \n",
              "325573  building  00001397   pre   \n",
              "\n",
              "                                                   pixwkt  \\\n",
              "0       POLYGON ((532.1863714054954 165.9824503000504,...   \n",
              "1       POLYGON ((810.6063087761681 743.0540229226118,...   \n",
              "2       POLYGON ((1023.496880254201 854.6598863601454,...   \n",
              "3       POLYGON ((1023.496779355264 937.0904197282952,...   \n",
              "4       POLYGON ((1023.49670602115 988.0186053329112, ...   \n",
              "...                                                   ...   \n",
              "325569  POLYGON ((948.0944354611244 926.0325910506685,...   \n",
              "325570  POLYGON ((246.0587158227871 728.4964513479449,...   \n",
              "325571  POLYGON ((254.7285181812857 725.2394436973794,...   \n",
              "325572  POLYGON ((395.0661334698472 596.7989554394592,...   \n",
              "325573  POLYGON ((503.2011875788714 786.9607513404492,...   \n",
              "\n",
              "                                                   geowkt    dmg_cat  \\\n",
              "0       POLYGON ((-90.81544679490855 14.39086318334812...  no-damage   \n",
              "1       POLYGON ((-90.81420592027385 14.38829423654861...  no-damage   \n",
              "2       POLYGON ((-90.81324289816379 14.3877907147159,...  no-damage   \n",
              "3       POLYGON ((-90.81324645425258 14.38742543063536...  no-damage   \n",
              "4       POLYGON ((-90.81324865131654 14.38719974659386...  no-damage   \n",
              "...                                                   ...        ...   \n",
              "325569  POLYGON ((-118.7207220434946 34.03458734714199...       none   \n",
              "325570  POLYGON ((-118.7242196184358 34.03535402921331...       none   \n",
              "325571  POLYGON ((-118.7241769006129 34.03536807765626...       none   \n",
              "325572  POLYGON ((-118.7234917508879 34.03590805900979...       none   \n",
              "325573  POLYGON ((-118.7229396752477 34.03513055773881...       none   \n",
              "\n",
              "                                         uid            sensor  \\\n",
              "0       486b0813-ecd2-4b84-856c-9c0e42156953  WORLDVIEW03_VNIR   \n",
              "1       139cf2c8-ad52-4739-82b5-bb646b215e76  WORLDVIEW03_VNIR   \n",
              "2       d43deb4a-529c-4df4-b666-26dd5b17e040  WORLDVIEW03_VNIR   \n",
              "3       563b145d-732d-4eb4-8c77-380519842324  WORLDVIEW03_VNIR   \n",
              "4       56f51b26-d511-461d-bb31-747901a4ea75  WORLDVIEW03_VNIR   \n",
              "...                                      ...               ...   \n",
              "325569  b5914bf1-9a0e-4dbc-9859-eaac05a9ef21       WORLDVIEW02   \n",
              "325570  5ad5fe97-038f-4bbc-aeee-82b790d43b03       WORLDVIEW02   \n",
              "325571  05a2ca67-92d8-4143-ac6f-3688bf0ae1f0       WORLDVIEW02   \n",
              "325572  46bc5b42-a26d-4105-9b20-02d627057e70       WORLDVIEW02   \n",
              "325573  1e2e1601-39f1-45f1-94c6-104770157adc       WORLDVIEW02   \n",
              "\n",
              "       provider_asset_type       gsd              capture_date  \\\n",
              "0         WORLDVIEW03_VNIR  1.408524  2018-06-22T16:55:40.000Z   \n",
              "1         WORLDVIEW03_VNIR  1.408524  2018-06-22T16:55:40.000Z   \n",
              "2         WORLDVIEW03_VNIR  1.408524  2018-06-22T16:55:40.000Z   \n",
              "3         WORLDVIEW03_VNIR  1.408524  2018-06-22T16:55:40.000Z   \n",
              "4         WORLDVIEW03_VNIR  1.408524  2018-06-22T16:55:40.000Z   \n",
              "...                    ...       ...                       ...   \n",
              "325569         WORLDVIEW02  1.900348  2018-10-23T18:50:43.000Z   \n",
              "325570         WORLDVIEW02  1.900348  2018-10-23T18:50:43.000Z   \n",
              "325571         WORLDVIEW02  1.900348  2018-10-23T18:50:43.000Z   \n",
              "325572         WORLDVIEW02  1.900348  2018-10-23T18:50:43.000Z   \n",
              "325573         WORLDVIEW02  1.900348  2018-10-23T18:50:43.000Z   \n",
              "\n",
              "        off_nadir_angle  pan_resolution  sun_azimuth  sun_elevation  \\\n",
              "0              21.97336        0.351739    58.571484      71.182274   \n",
              "1              21.97336        0.351739    58.571484      71.182274   \n",
              "2              21.97336        0.351739    58.571484      71.182274   \n",
              "3              21.97336        0.351739    58.571484      71.182274   \n",
              "4              21.97336        0.351739    58.571484      71.182274   \n",
              "...                 ...             ...          ...            ...   \n",
              "325569          8.88540        0.474044   163.849060      42.730503   \n",
              "325570          8.88540        0.474044   163.849060      42.730503   \n",
              "325571          8.88540        0.474044   163.849060      42.730503   \n",
              "325572          8.88540        0.474044   163.849060      42.730503   \n",
              "325573          8.88540        0.474044   163.849060      42.730503   \n",
              "\n",
              "        target_azimuth           disaster disaster_type        catalog_id  \\\n",
              "0            314.29373  guatemala-volcano       volcano  104001003E575F00   \n",
              "1            314.29373  guatemala-volcano       volcano  104001003E575F00   \n",
              "2            314.29373  guatemala-volcano       volcano  104001003E575F00   \n",
              "3            314.29373  guatemala-volcano       volcano  104001003E575F00   \n",
              "4            314.29373  guatemala-volcano       volcano  104001003E575F00   \n",
              "...                ...                ...           ...               ...   \n",
              "325569       302.29950         socal-fire          fire  1030010085017B00   \n",
              "325570       302.29950         socal-fire          fire  1030010085017B00   \n",
              "325571       302.29950         socal-fire          fire  1030010085017B00   \n",
              "325572       302.29950         socal-fire          fire  1030010085017B00   \n",
              "325573       302.29950         socal-fire          fire  1030010085017B00   \n",
              "\n",
              "        original_width  original_height  width  height  \\\n",
              "0                 1024             1024   1024    1024   \n",
              "1                 1024             1024   1024    1024   \n",
              "2                 1024             1024   1024    1024   \n",
              "3                 1024             1024   1024    1024   \n",
              "4                 1024             1024   1024    1024   \n",
              "...                ...              ...    ...     ...   \n",
              "325569            1024             1024   1024    1024   \n",
              "325570            1024             1024   1024    1024   \n",
              "325571            1024             1024   1024    1024   \n",
              "325572            1024             1024   1024    1024   \n",
              "325573            1024             1024   1024    1024   \n",
              "\n",
              "                                            id  \\\n",
              "0       MjU0NzE2NA.73QhG8U-LJLGkyNS0FB24X8vQS8   \n",
              "1       MjU0NzE2NA.73QhG8U-LJLGkyNS0FB24X8vQS8   \n",
              "2       MjU0NzE2NA.73QhG8U-LJLGkyNS0FB24X8vQS8   \n",
              "3       MjU0NzE2NA.73QhG8U-LJLGkyNS0FB24X8vQS8   \n",
              "4       MjU0NzE2NA.73QhG8U-LJLGkyNS0FB24X8vQS8   \n",
              "...                                        ...   \n",
              "325569  MjU3ODIzNA.AkzdaabZwCkpmhgn7MuwPq6uF84   \n",
              "325570  MjU3ODIzNA.AkzdaabZwCkpmhgn7MuwPq6uF84   \n",
              "325571  MjU3ODIzNA.AkzdaabZwCkpmhgn7MuwPq6uF84   \n",
              "325572  MjU3ODIzNA.AkzdaabZwCkpmhgn7MuwPq6uF84   \n",
              "325573  MjU3ODIzNA.AkzdaabZwCkpmhgn7MuwPq6uF84   \n",
              "\n",
              "                                            img_name  \n",
              "0       guatemala-volcano_00000000_post_disaster.png  \n",
              "1       guatemala-volcano_00000000_post_disaster.png  \n",
              "2       guatemala-volcano_00000000_post_disaster.png  \n",
              "3       guatemala-volcano_00000000_post_disaster.png  \n",
              "4       guatemala-volcano_00000000_post_disaster.png  \n",
              "...                                              ...  \n",
              "325569          socal-fire_00001397_pre_disaster.png  \n",
              "325570          socal-fire_00001397_pre_disaster.png  \n",
              "325571          socal-fire_00001397_pre_disaster.png  \n",
              "325572          socal-fire_00001397_pre_disaster.png  \n",
              "325573          socal-fire_00001397_pre_disaster.png  \n",
              "\n",
              "[325574 rows x 25 columns]"
            ],
            "text/html": [
              "\n",
              "  <div id=\"df-31bb3277-8ce1-477a-a1e3-f7649c187c9b\">\n",
              "    <div class=\"colab-df-container\">\n",
              "      <div>\n",
              "<style scoped>\n",
              "    .dataframe tbody tr th:only-of-type {\n",
              "        vertical-align: middle;\n",
              "    }\n",
              "\n",
              "    .dataframe tbody tr th {\n",
              "        vertical-align: top;\n",
              "    }\n",
              "\n",
              "    .dataframe thead th {\n",
              "        text-align: right;\n",
              "    }\n",
              "</style>\n",
              "<table border=\"1\" class=\"dataframe\">\n",
              "  <thead>\n",
              "    <tr style=\"text-align: right;\">\n",
              "      <th></th>\n",
              "      <th>obj_type</th>\n",
              "      <th>img_id</th>\n",
              "      <th>type</th>\n",
              "      <th>pixwkt</th>\n",
              "      <th>geowkt</th>\n",
              "      <th>dmg_cat</th>\n",
              "      <th>uid</th>\n",
              "      <th>sensor</th>\n",
              "      <th>provider_asset_type</th>\n",
              "      <th>gsd</th>\n",
              "      <th>capture_date</th>\n",
              "      <th>off_nadir_angle</th>\n",
              "      <th>pan_resolution</th>\n",
              "      <th>sun_azimuth</th>\n",
              "      <th>sun_elevation</th>\n",
              "      <th>target_azimuth</th>\n",
              "      <th>disaster</th>\n",
              "      <th>disaster_type</th>\n",
              "      <th>catalog_id</th>\n",
              "      <th>original_width</th>\n",
              "      <th>original_height</th>\n",
              "      <th>width</th>\n",
              "      <th>height</th>\n",
              "      <th>id</th>\n",
              "      <th>img_name</th>\n",
              "    </tr>\n",
              "  </thead>\n",
              "  <tbody>\n",
              "    <tr>\n",
              "      <th>0</th>\n",
              "      <td>building</td>\n",
              "      <td>00000000</td>\n",
              "      <td>post</td>\n",
              "      <td>POLYGON ((532.1863714054954 165.9824503000504,...</td>\n",
              "      <td>POLYGON ((-90.81544679490855 14.39086318334812...</td>\n",
              "      <td>no-damage</td>\n",
              "      <td>486b0813-ecd2-4b84-856c-9c0e42156953</td>\n",
              "      <td>WORLDVIEW03_VNIR</td>\n",
              "      <td>WORLDVIEW03_VNIR</td>\n",
              "      <td>1.408524</td>\n",
              "      <td>2018-06-22T16:55:40.000Z</td>\n",
              "      <td>21.97336</td>\n",
              "      <td>0.351739</td>\n",
              "      <td>58.571484</td>\n",
              "      <td>71.182274</td>\n",
              "      <td>314.29373</td>\n",
              "      <td>guatemala-volcano</td>\n",
              "      <td>volcano</td>\n",
              "      <td>104001003E575F00</td>\n",
              "      <td>1024</td>\n",
              "      <td>1024</td>\n",
              "      <td>1024</td>\n",
              "      <td>1024</td>\n",
              "      <td>MjU0NzE2NA.73QhG8U-LJLGkyNS0FB24X8vQS8</td>\n",
              "      <td>guatemala-volcano_00000000_post_disaster.png</td>\n",
              "    </tr>\n",
              "    <tr>\n",
              "      <th>1</th>\n",
              "      <td>building</td>\n",
              "      <td>00000000</td>\n",
              "      <td>post</td>\n",
              "      <td>POLYGON ((810.6063087761681 743.0540229226118,...</td>\n",
              "      <td>POLYGON ((-90.81420592027385 14.38829423654861...</td>\n",
              "      <td>no-damage</td>\n",
              "      <td>139cf2c8-ad52-4739-82b5-bb646b215e76</td>\n",
              "      <td>WORLDVIEW03_VNIR</td>\n",
              "      <td>WORLDVIEW03_VNIR</td>\n",
              "      <td>1.408524</td>\n",
              "      <td>2018-06-22T16:55:40.000Z</td>\n",
              "      <td>21.97336</td>\n",
              "      <td>0.351739</td>\n",
              "      <td>58.571484</td>\n",
              "      <td>71.182274</td>\n",
              "      <td>314.29373</td>\n",
              "      <td>guatemala-volcano</td>\n",
              "      <td>volcano</td>\n",
              "      <td>104001003E575F00</td>\n",
              "      <td>1024</td>\n",
              "      <td>1024</td>\n",
              "      <td>1024</td>\n",
              "      <td>1024</td>\n",
              "      <td>MjU0NzE2NA.73QhG8U-LJLGkyNS0FB24X8vQS8</td>\n",
              "      <td>guatemala-volcano_00000000_post_disaster.png</td>\n",
              "    </tr>\n",
              "    <tr>\n",
              "      <th>2</th>\n",
              "      <td>building</td>\n",
              "      <td>00000000</td>\n",
              "      <td>post</td>\n",
              "      <td>POLYGON ((1023.496880254201 854.6598863601454,...</td>\n",
              "      <td>POLYGON ((-90.81324289816379 14.3877907147159,...</td>\n",
              "      <td>no-damage</td>\n",
              "      <td>d43deb4a-529c-4df4-b666-26dd5b17e040</td>\n",
              "      <td>WORLDVIEW03_VNIR</td>\n",
              "      <td>WORLDVIEW03_VNIR</td>\n",
              "      <td>1.408524</td>\n",
              "      <td>2018-06-22T16:55:40.000Z</td>\n",
              "      <td>21.97336</td>\n",
              "      <td>0.351739</td>\n",
              "      <td>58.571484</td>\n",
              "      <td>71.182274</td>\n",
              "      <td>314.29373</td>\n",
              "      <td>guatemala-volcano</td>\n",
              "      <td>volcano</td>\n",
              "      <td>104001003E575F00</td>\n",
              "      <td>1024</td>\n",
              "      <td>1024</td>\n",
              "      <td>1024</td>\n",
              "      <td>1024</td>\n",
              "      <td>MjU0NzE2NA.73QhG8U-LJLGkyNS0FB24X8vQS8</td>\n",
              "      <td>guatemala-volcano_00000000_post_disaster.png</td>\n",
              "    </tr>\n",
              "    <tr>\n",
              "      <th>3</th>\n",
              "      <td>building</td>\n",
              "      <td>00000000</td>\n",
              "      <td>post</td>\n",
              "      <td>POLYGON ((1023.496779355264 937.0904197282952,...</td>\n",
              "      <td>POLYGON ((-90.81324645425258 14.38742543063536...</td>\n",
              "      <td>no-damage</td>\n",
              "      <td>563b145d-732d-4eb4-8c77-380519842324</td>\n",
              "      <td>WORLDVIEW03_VNIR</td>\n",
              "      <td>WORLDVIEW03_VNIR</td>\n",
              "      <td>1.408524</td>\n",
              "      <td>2018-06-22T16:55:40.000Z</td>\n",
              "      <td>21.97336</td>\n",
              "      <td>0.351739</td>\n",
              "      <td>58.571484</td>\n",
              "      <td>71.182274</td>\n",
              "      <td>314.29373</td>\n",
              "      <td>guatemala-volcano</td>\n",
              "      <td>volcano</td>\n",
              "      <td>104001003E575F00</td>\n",
              "      <td>1024</td>\n",
              "      <td>1024</td>\n",
              "      <td>1024</td>\n",
              "      <td>1024</td>\n",
              "      <td>MjU0NzE2NA.73QhG8U-LJLGkyNS0FB24X8vQS8</td>\n",
              "      <td>guatemala-volcano_00000000_post_disaster.png</td>\n",
              "    </tr>\n",
              "    <tr>\n",
              "      <th>4</th>\n",
              "      <td>building</td>\n",
              "      <td>00000000</td>\n",
              "      <td>post</td>\n",
              "      <td>POLYGON ((1023.49670602115 988.0186053329112, ...</td>\n",
              "      <td>POLYGON ((-90.81324865131654 14.38719974659386...</td>\n",
              "      <td>no-damage</td>\n",
              "      <td>56f51b26-d511-461d-bb31-747901a4ea75</td>\n",
              "      <td>WORLDVIEW03_VNIR</td>\n",
              "      <td>WORLDVIEW03_VNIR</td>\n",
              "      <td>1.408524</td>\n",
              "      <td>2018-06-22T16:55:40.000Z</td>\n",
              "      <td>21.97336</td>\n",
              "      <td>0.351739</td>\n",
              "      <td>58.571484</td>\n",
              "      <td>71.182274</td>\n",
              "      <td>314.29373</td>\n",
              "      <td>guatemala-volcano</td>\n",
              "      <td>volcano</td>\n",
              "      <td>104001003E575F00</td>\n",
              "      <td>1024</td>\n",
              "      <td>1024</td>\n",
              "      <td>1024</td>\n",
              "      <td>1024</td>\n",
              "      <td>MjU0NzE2NA.73QhG8U-LJLGkyNS0FB24X8vQS8</td>\n",
              "      <td>guatemala-volcano_00000000_post_disaster.png</td>\n",
              "    </tr>\n",
              "    <tr>\n",
              "      <th>...</th>\n",
              "      <td>...</td>\n",
              "      <td>...</td>\n",
              "      <td>...</td>\n",
              "      <td>...</td>\n",
              "      <td>...</td>\n",
              "      <td>...</td>\n",
              "      <td>...</td>\n",
              "      <td>...</td>\n",
              "      <td>...</td>\n",
              "      <td>...</td>\n",
              "      <td>...</td>\n",
              "      <td>...</td>\n",
              "      <td>...</td>\n",
              "      <td>...</td>\n",
              "      <td>...</td>\n",
              "      <td>...</td>\n",
              "      <td>...</td>\n",
              "      <td>...</td>\n",
              "      <td>...</td>\n",
              "      <td>...</td>\n",
              "      <td>...</td>\n",
              "      <td>...</td>\n",
              "      <td>...</td>\n",
              "      <td>...</td>\n",
              "      <td>...</td>\n",
              "    </tr>\n",
              "    <tr>\n",
              "      <th>325569</th>\n",
              "      <td>building</td>\n",
              "      <td>00001397</td>\n",
              "      <td>pre</td>\n",
              "      <td>POLYGON ((948.0944354611244 926.0325910506685,...</td>\n",
              "      <td>POLYGON ((-118.7207220434946 34.03458734714199...</td>\n",
              "      <td>none</td>\n",
              "      <td>b5914bf1-9a0e-4dbc-9859-eaac05a9ef21</td>\n",
              "      <td>WORLDVIEW02</td>\n",
              "      <td>WORLDVIEW02</td>\n",
              "      <td>1.900348</td>\n",
              "      <td>2018-10-23T18:50:43.000Z</td>\n",
              "      <td>8.88540</td>\n",
              "      <td>0.474044</td>\n",
              "      <td>163.849060</td>\n",
              "      <td>42.730503</td>\n",
              "      <td>302.29950</td>\n",
              "      <td>socal-fire</td>\n",
              "      <td>fire</td>\n",
              "      <td>1030010085017B00</td>\n",
              "      <td>1024</td>\n",
              "      <td>1024</td>\n",
              "      <td>1024</td>\n",
              "      <td>1024</td>\n",
              "      <td>MjU3ODIzNA.AkzdaabZwCkpmhgn7MuwPq6uF84</td>\n",
              "      <td>socal-fire_00001397_pre_disaster.png</td>\n",
              "    </tr>\n",
              "    <tr>\n",
              "      <th>325570</th>\n",
              "      <td>building</td>\n",
              "      <td>00001397</td>\n",
              "      <td>pre</td>\n",
              "      <td>POLYGON ((246.0587158227871 728.4964513479449,...</td>\n",
              "      <td>POLYGON ((-118.7242196184358 34.03535402921331...</td>\n",
              "      <td>none</td>\n",
              "      <td>5ad5fe97-038f-4bbc-aeee-82b790d43b03</td>\n",
              "      <td>WORLDVIEW02</td>\n",
              "      <td>WORLDVIEW02</td>\n",
              "      <td>1.900348</td>\n",
              "      <td>2018-10-23T18:50:43.000Z</td>\n",
              "      <td>8.88540</td>\n",
              "      <td>0.474044</td>\n",
              "      <td>163.849060</td>\n",
              "      <td>42.730503</td>\n",
              "      <td>302.29950</td>\n",
              "      <td>socal-fire</td>\n",
              "      <td>fire</td>\n",
              "      <td>1030010085017B00</td>\n",
              "      <td>1024</td>\n",
              "      <td>1024</td>\n",
              "      <td>1024</td>\n",
              "      <td>1024</td>\n",
              "      <td>MjU3ODIzNA.AkzdaabZwCkpmhgn7MuwPq6uF84</td>\n",
              "      <td>socal-fire_00001397_pre_disaster.png</td>\n",
              "    </tr>\n",
              "    <tr>\n",
              "      <th>325571</th>\n",
              "      <td>building</td>\n",
              "      <td>00001397</td>\n",
              "      <td>pre</td>\n",
              "      <td>POLYGON ((254.7285181812857 725.2394436973794,...</td>\n",
              "      <td>POLYGON ((-118.7241769006129 34.03536807765626...</td>\n",
              "      <td>none</td>\n",
              "      <td>05a2ca67-92d8-4143-ac6f-3688bf0ae1f0</td>\n",
              "      <td>WORLDVIEW02</td>\n",
              "      <td>WORLDVIEW02</td>\n",
              "      <td>1.900348</td>\n",
              "      <td>2018-10-23T18:50:43.000Z</td>\n",
              "      <td>8.88540</td>\n",
              "      <td>0.474044</td>\n",
              "      <td>163.849060</td>\n",
              "      <td>42.730503</td>\n",
              "      <td>302.29950</td>\n",
              "      <td>socal-fire</td>\n",
              "      <td>fire</td>\n",
              "      <td>1030010085017B00</td>\n",
              "      <td>1024</td>\n",
              "      <td>1024</td>\n",
              "      <td>1024</td>\n",
              "      <td>1024</td>\n",
              "      <td>MjU3ODIzNA.AkzdaabZwCkpmhgn7MuwPq6uF84</td>\n",
              "      <td>socal-fire_00001397_pre_disaster.png</td>\n",
              "    </tr>\n",
              "    <tr>\n",
              "      <th>325572</th>\n",
              "      <td>building</td>\n",
              "      <td>00001397</td>\n",
              "      <td>pre</td>\n",
              "      <td>POLYGON ((395.0661334698472 596.7989554394592,...</td>\n",
              "      <td>POLYGON ((-118.7234917508879 34.03590805900979...</td>\n",
              "      <td>none</td>\n",
              "      <td>46bc5b42-a26d-4105-9b20-02d627057e70</td>\n",
              "      <td>WORLDVIEW02</td>\n",
              "      <td>WORLDVIEW02</td>\n",
              "      <td>1.900348</td>\n",
              "      <td>2018-10-23T18:50:43.000Z</td>\n",
              "      <td>8.88540</td>\n",
              "      <td>0.474044</td>\n",
              "      <td>163.849060</td>\n",
              "      <td>42.730503</td>\n",
              "      <td>302.29950</td>\n",
              "      <td>socal-fire</td>\n",
              "      <td>fire</td>\n",
              "      <td>1030010085017B00</td>\n",
              "      <td>1024</td>\n",
              "      <td>1024</td>\n",
              "      <td>1024</td>\n",
              "      <td>1024</td>\n",
              "      <td>MjU3ODIzNA.AkzdaabZwCkpmhgn7MuwPq6uF84</td>\n",
              "      <td>socal-fire_00001397_pre_disaster.png</td>\n",
              "    </tr>\n",
              "    <tr>\n",
              "      <th>325573</th>\n",
              "      <td>building</td>\n",
              "      <td>00001397</td>\n",
              "      <td>pre</td>\n",
              "      <td>POLYGON ((503.2011875788714 786.9607513404492,...</td>\n",
              "      <td>POLYGON ((-118.7229396752477 34.03513055773881...</td>\n",
              "      <td>none</td>\n",
              "      <td>1e2e1601-39f1-45f1-94c6-104770157adc</td>\n",
              "      <td>WORLDVIEW02</td>\n",
              "      <td>WORLDVIEW02</td>\n",
              "      <td>1.900348</td>\n",
              "      <td>2018-10-23T18:50:43.000Z</td>\n",
              "      <td>8.88540</td>\n",
              "      <td>0.474044</td>\n",
              "      <td>163.849060</td>\n",
              "      <td>42.730503</td>\n",
              "      <td>302.29950</td>\n",
              "      <td>socal-fire</td>\n",
              "      <td>fire</td>\n",
              "      <td>1030010085017B00</td>\n",
              "      <td>1024</td>\n",
              "      <td>1024</td>\n",
              "      <td>1024</td>\n",
              "      <td>1024</td>\n",
              "      <td>MjU3ODIzNA.AkzdaabZwCkpmhgn7MuwPq6uF84</td>\n",
              "      <td>socal-fire_00001397_pre_disaster.png</td>\n",
              "    </tr>\n",
              "  </tbody>\n",
              "</table>\n",
              "<p>325574 rows × 25 columns</p>\n",
              "</div>\n",
              "      <button class=\"colab-df-convert\" onclick=\"convertToInteractive('df-31bb3277-8ce1-477a-a1e3-f7649c187c9b')\"\n",
              "              title=\"Convert this dataframe to an interactive table.\"\n",
              "              style=\"display:none;\">\n",
              "        \n",
              "  <svg xmlns=\"http://www.w3.org/2000/svg\" height=\"24px\"viewBox=\"0 0 24 24\"\n",
              "       width=\"24px\">\n",
              "    <path d=\"M0 0h24v24H0V0z\" fill=\"none\"/>\n",
              "    <path d=\"M18.56 5.44l.94 2.06.94-2.06 2.06-.94-2.06-.94-.94-2.06-.94 2.06-2.06.94zm-11 1L8.5 8.5l.94-2.06 2.06-.94-2.06-.94L8.5 2.5l-.94 2.06-2.06.94zm10 10l.94 2.06.94-2.06 2.06-.94-2.06-.94-.94-2.06-.94 2.06-2.06.94z\"/><path d=\"M17.41 7.96l-1.37-1.37c-.4-.4-.92-.59-1.43-.59-.52 0-1.04.2-1.43.59L10.3 9.45l-7.72 7.72c-.78.78-.78 2.05 0 2.83L4 21.41c.39.39.9.59 1.41.59.51 0 1.02-.2 1.41-.59l7.78-7.78 2.81-2.81c.8-.78.8-2.07 0-2.86zM5.41 20L4 18.59l7.72-7.72 1.47 1.35L5.41 20z\"/>\n",
              "  </svg>\n",
              "      </button>\n",
              "      \n",
              "  <style>\n",
              "    .colab-df-container {\n",
              "      display:flex;\n",
              "      flex-wrap:wrap;\n",
              "      gap: 12px;\n",
              "    }\n",
              "\n",
              "    .colab-df-convert {\n",
              "      background-color: #E8F0FE;\n",
              "      border: none;\n",
              "      border-radius: 50%;\n",
              "      cursor: pointer;\n",
              "      display: none;\n",
              "      fill: #1967D2;\n",
              "      height: 32px;\n",
              "      padding: 0 0 0 0;\n",
              "      width: 32px;\n",
              "    }\n",
              "\n",
              "    .colab-df-convert:hover {\n",
              "      background-color: #E2EBFA;\n",
              "      box-shadow: 0px 1px 2px rgba(60, 64, 67, 0.3), 0px 1px 3px 1px rgba(60, 64, 67, 0.15);\n",
              "      fill: #174EA6;\n",
              "    }\n",
              "\n",
              "    [theme=dark] .colab-df-convert {\n",
              "      background-color: #3B4455;\n",
              "      fill: #D2E3FC;\n",
              "    }\n",
              "\n",
              "    [theme=dark] .colab-df-convert:hover {\n",
              "      background-color: #434B5C;\n",
              "      box-shadow: 0px 1px 3px 1px rgba(0, 0, 0, 0.15);\n",
              "      filter: drop-shadow(0px 1px 2px rgba(0, 0, 0, 0.3));\n",
              "      fill: #FFFFFF;\n",
              "    }\n",
              "  </style>\n",
              "\n",
              "      <script>\n",
              "        const buttonEl =\n",
              "          document.querySelector('#df-31bb3277-8ce1-477a-a1e3-f7649c187c9b button.colab-df-convert');\n",
              "        buttonEl.style.display =\n",
              "          google.colab.kernel.accessAllowed ? 'block' : 'none';\n",
              "\n",
              "        async function convertToInteractive(key) {\n",
              "          const element = document.querySelector('#df-31bb3277-8ce1-477a-a1e3-f7649c187c9b');\n",
              "          const dataTable =\n",
              "            await google.colab.kernel.invokeFunction('convertToInteractive',\n",
              "                                                     [key], {});\n",
              "          if (!dataTable) return;\n",
              "\n",
              "          const docLinkHtml = 'Like what you see? Visit the ' +\n",
              "            '<a target=\"_blank\" href=https://colab.research.google.com/notebooks/data_table.ipynb>data table notebook</a>'\n",
              "            + ' to learn more about interactive tables.';\n",
              "          element.innerHTML = '';\n",
              "          dataTable['output_type'] = 'display_data';\n",
              "          await google.colab.output.renderOutput(dataTable, element);\n",
              "          const docLink = document.createElement('div');\n",
              "          docLink.innerHTML = docLinkHtml;\n",
              "          element.appendChild(docLink);\n",
              "        }\n",
              "      </script>\n",
              "    </div>\n",
              "  </div>\n",
              "  "
            ]
          },
          "metadata": {},
          "execution_count": 79
        }
      ]
    },
    {
      "cell_type": "code",
      "source": [
        "print(\"df length : \", len(train_df))"
      ],
      "metadata": {
        "colab": {
          "base_uri": "https://localhost:8080/"
        },
        "id": "N9M77EO18ThK",
        "outputId": "59f1bbc2-6952-42e9-ff65-840ceaa700bc"
      },
      "execution_count": 82,
      "outputs": [
        {
          "output_type": "stream",
          "name": "stdout",
          "text": [
            "df length :  325574\n"
          ]
        }
      ]
    },
    {
      "cell_type": "code",
      "source": [
        "print(\"df columns : \", train_df.columns)"
      ],
      "metadata": {
        "colab": {
          "base_uri": "https://localhost:8080/"
        },
        "id": "PnsCA9ue8Tka",
        "outputId": "0877ec54-9182-48bd-b408-ea205cd1ada3"
      },
      "execution_count": 83,
      "outputs": [
        {
          "output_type": "stream",
          "name": "stdout",
          "text": [
            "df columns :  Index(['obj_type', 'img_id', 'type', 'pixwkt', 'geowkt', 'dmg_cat', 'uid',\n",
            "       'sensor', 'provider_asset_type', 'gsd', 'capture_date',\n",
            "       'off_nadir_angle', 'pan_resolution', 'sun_azimuth', 'sun_elevation',\n",
            "       'target_azimuth', 'disaster', 'disaster_type', 'catalog_id',\n",
            "       'original_width', 'original_height', 'width', 'height', 'id',\n",
            "       'img_name'],\n",
            "      dtype='object')\n"
          ]
        }
      ]
    },
    {
      "cell_type": "code",
      "source": [
        "print(\"Unique disasters types in df : \", train_df['disaster_type'].unique())"
      ],
      "metadata": {
        "colab": {
          "base_uri": "https://localhost:8080/"
        },
        "id": "JoFZrlZB8qrC",
        "outputId": "7ec16a35-dcc4-4d4e-f6e4-06146438fb06"
      },
      "execution_count": 84,
      "outputs": [
        {
          "output_type": "stream",
          "name": "stdout",
          "text": [
            "Unique disasters types in df :  ['volcano' 'flooding' 'wind' 'earthquake' 'tsunami' 'fire']\n"
          ]
        }
      ]
    },
    {
      "cell_type": "code",
      "source": [
        "print(\"Unique disasters in df : \", train_df['disaster'].unique())"
      ],
      "metadata": {
        "colab": {
          "base_uri": "https://localhost:8080/"
        },
        "id": "YKarTH2P8qto",
        "outputId": "8414860b-b1b1-41f5-e719-f96306cba1ac"
      },
      "execution_count": 85,
      "outputs": [
        {
          "output_type": "stream",
          "name": "stdout",
          "text": [
            "Unique disasters in df :  ['guatemala-volcano' 'hurricane-florence' 'hurricane-harvey'\n",
            " 'hurricane-matthew' 'hurricane-michael' 'mexico-earthquake'\n",
            " 'midwest-flooding' 'palu-tsunami' 'santa-rosa-wildfire' 'socal-fire']\n"
          ]
        }
      ]
    },
    {
      "cell_type": "code",
      "source": [
        "print(\"Unique damage cat in df : \", train_df['dmg_cat'].unique())"
      ],
      "metadata": {
        "colab": {
          "base_uri": "https://localhost:8080/"
        },
        "id": "3uNU6FXk8qwZ",
        "outputId": "35cd6d31-df3d-4ed9-bb9f-621210a922bb"
      },
      "execution_count": 86,
      "outputs": [
        {
          "output_type": "stream",
          "name": "stdout",
          "text": [
            "Unique damage cat in df :  ['no-damage' 'none' 'minor-damage' 'destroyed' 'major-damage'\n",
            " 'un-classified']\n"
          ]
        }
      ]
    },
    {
      "cell_type": "code",
      "source": [],
      "metadata": {
        "id": "7EL24H3J8qy5"
      },
      "execution_count": null,
      "outputs": []
    },
    {
      "cell_type": "code",
      "source": [],
      "metadata": {
        "id": "z-hqW8D39ZuT"
      },
      "execution_count": null,
      "outputs": []
    },
    {
      "cell_type": "code",
      "source": [],
      "metadata": {
        "id": "RBolHO_s9ZxK"
      },
      "execution_count": null,
      "outputs": []
    },
    {
      "cell_type": "code",
      "source": [],
      "metadata": {
        "id": "wkiDte7K9Zz4"
      },
      "execution_count": null,
      "outputs": []
    },
    {
      "cell_type": "markdown",
      "source": [
        "# New Section\n",
        "\n",
        "1.   List item\n",
        "2.   List item\n",
        "\n"
      ],
      "metadata": {
        "id": "oOMB_JtUHEY6"
      }
    }
  ]
}