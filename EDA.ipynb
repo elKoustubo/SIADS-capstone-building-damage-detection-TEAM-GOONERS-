{
  "nbformat": 4,
  "nbformat_minor": 0,
  "metadata": {
    "colab": {
      "provenance": [],
      "include_colab_link": true
    },
    "kernelspec": {
      "name": "python3",
      "display_name": "Python 3"
    },
    "language_info": {
      "name": "python"
    }
  },
  "cells": [
    {
      "cell_type": "markdown",
      "metadata": {
        "id": "view-in-github",
        "colab_type": "text"
      },
      "source": [
        "<a href=\"https://colab.research.google.com/github/mrjakhi/SIADS-capstone-building-damage-detection-TEAM-GOONERS-/blob/main/EDA.ipynb\" target=\"_parent\"><img src=\"https://colab.research.google.com/assets/colab-badge.svg\" alt=\"Open In Colab\"/></a>"
      ]
    },
    {
      "cell_type": "markdown",
      "source": [
        "# Importing libraries"
      ],
      "metadata": {
        "id": "chhTtmbQBtQ5"
      }
    },
    {
      "cell_type": "code",
      "execution_count": null,
      "metadata": {
        "id": "jAt1O2wJHCtG"
      },
      "outputs": [],
      "source": [
        "import json\n",
        "import os\n",
        "import random\n",
        "import shutil\n",
        "import time\n",
        "from matplotlib.collections import PatchCollection\n",
        "from matplotlib.patches import Polygon\n",
        "import matplotlib.pyplot as plt\n",
        "import numpy as np\n",
        "import pandas as pd\n",
        "pd.set_option('display.max_columns', None)\n",
        "from PIL import Image\n",
        "import shapely.wkt\n",
        "from tqdm import tqdm\n",
        "import sys\n",
        "import os\n",
        "from google.colab import drive\n",
        "from main_mod_Collab import ann_dictionary_ann_df\n",
        "from main_mod_Collab import view_pre_post"
      ]
    },
    {
      "cell_type": "markdown",
      "source": [
        "# Connect to G drive "
      ],
      "metadata": {
        "id": "JpIx89Q0B0tR"
      }
    },
    {
      "cell_type": "code",
      "source": [
        "## connect to google drive\n",
        "drive.mount('/content/gdrive/', force_remount=True)"
      ],
      "metadata": {
        "colab": {
          "base_uri": "https://localhost:8080/"
        },
        "id": "ATHE-RCMmLuG",
        "outputId": "e7702efc-da6c-48b4-fb40-39e818a03b01"
      },
      "execution_count": null,
      "outputs": [
        {
          "output_type": "stream",
          "name": "stdout",
          "text": [
            "Mounted at /content/gdrive/\n"
          ]
        }
      ]
    },
    {
      "cell_type": "code",
      "source": [
        "sys.path.append('/content/gdrive/My Drive/MADS_CourseWork/Capstone/Capstone/')\n",
        "files = os.listdir(\"/content/gdrive/My Drive/MADS_CourseWork/Capstone/Capstone/\")\n",
        "files"
      ],
      "metadata": {
        "id": "DnGlsoXPoXXB",
        "colab": {
          "base_uri": "https://localhost:8080/"
        },
        "outputId": "a7b9769b-c425-4f02-e7de-bbfcd7161ded"
      },
      "execution_count": null,
      "outputs": [
        {
          "output_type": "execute_result",
          "data": {
            "text/plain": [
              "['EDA.ipynb',\n",
              " 'Data',\n",
              " 'train',\n",
              " 'test',\n",
              " 'hold',\n",
              " 'main.py',\n",
              " 'main_mod_Collab.py',\n",
              " '__pycache__']"
            ]
          },
          "metadata": {},
          "execution_count": 164
        }
      ]
    },
    {
      "cell_type": "code",
      "source": [
        "train_images = os.listdir(\"/content/gdrive/My Drive/MADS_CourseWork/Capstone/Capstone/Data/train/images\")\n",
        "train_labels =  os.listdir(\"/content/gdrive/My Drive/MADS_CourseWork/Capstone/Capstone/Data/train/labels\")\n",
        "print(\"Number of images for traininig: \", len(train_images))"
      ],
      "metadata": {
        "colab": {
          "base_uri": "https://localhost:8080/"
        },
        "id": "4M9rMAmVoXjL",
        "outputId": "e90590bc-f040-4479-e9c1-3bb83a8570f3"
      },
      "execution_count": null,
      "outputs": [
        {
          "output_type": "stream",
          "name": "stdout",
          "text": [
            "Number of images for traininig:  5598\n"
          ]
        }
      ]
    },
    {
      "cell_type": "markdown",
      "source": [
        "# Train df "
      ],
      "metadata": {
        "id": "UPZZS-2nBXgm"
      }
    },
    {
      "cell_type": "code",
      "source": [
        "train_images_path = r\"/content/gdrive/My Drive/MADS_CourseWork/Capstone/Capstone/Data/train/images\"\n",
        "test_images_path = r\"/content/gdrive/My Drive/MADS_CourseWork/Capstone/Capstone/Data/test/images\"\n",
        "hold_images_path = r\"/content/gdrive/My Drive/MADS_CourseWork/Capstone/Capstone/Data/hold/images\"\n",
        "\n",
        "\n",
        "train_labels_path =  r\"/content/gdrive/My Drive/MADS_CourseWork/Capstone/Capstone/Data/train/labels\"\n",
        "test_labels_path = r\"/content/gdrive/My Drive/MADS_CourseWork/Capstone/Capstone/Data/test/labels\"\n",
        "hold_labels_path = r\"/content/gdrive/My Drive/MADS_CourseWork/Capstone/Capstone/Data/hold/labels\"\n",
        "\n",
        "print(train_images_path)"
      ],
      "metadata": {
        "id": "cCT3zkKn5TMo",
        "colab": {
          "base_uri": "https://localhost:8080/"
        },
        "outputId": "c40bf1c9-08e8-4d00-b13c-c373fbc41cfa"
      },
      "execution_count": 194,
      "outputs": [
        {
          "output_type": "stream",
          "name": "stdout",
          "text": [
            "/content/gdrive/My Drive/MADS_CourseWork/Capstone/Capstone/Data/train/images\n"
          ]
        }
      ]
    },
    {
      "cell_type": "code",
      "source": [
        "train_df = ann_dictionary_ann_df(train_labels_path)"
      ],
      "metadata": {
        "id": "sb6imiLcoXs2",
        "colab": {
          "base_uri": "https://localhost:8080/"
        },
        "outputId": "d6a3f1b2-3663-492a-c5d2-fd3c3644bb56"
      },
      "execution_count": null,
      "outputs": [
        {
          "output_type": "stream",
          "name": "stdout",
          "text": [
            "Loading annotations into memory...\n",
            "Done (t=19.90s)\n",
            "Creating annotation dataframe...\n",
            "Done (t=7.45s)\n"
          ]
        }
      ]
    },
    {
      "cell_type": "code",
      "source": [
        "train_df"
      ],
      "metadata": {
        "colab": {
          "base_uri": "https://localhost:8080/",
          "height": 1000
        },
        "id": "yvxxCV1s8Ter",
        "outputId": "87ff1386-324f-40cb-9c27-c9da7bc5a0d2"
      },
      "execution_count": null,
      "outputs": [
        {
          "output_type": "execute_result",
          "data": {
            "text/plain": [
              "        obj_type    img_id  type  \\\n",
              "0       building  00000000  post   \n",
              "1       building  00000000  post   \n",
              "2       building  00000000  post   \n",
              "3       building  00000000  post   \n",
              "4       building  00000000  post   \n",
              "...          ...       ...   ...   \n",
              "325569  building  00001397   pre   \n",
              "325570  building  00001397   pre   \n",
              "325571  building  00001397   pre   \n",
              "325572  building  00001397   pre   \n",
              "325573  building  00001397   pre   \n",
              "\n",
              "                                                   pixwkt  \\\n",
              "0       POLYGON ((532.1863714054954 165.9824503000504,...   \n",
              "1       POLYGON ((810.6063087761681 743.0540229226118,...   \n",
              "2       POLYGON ((1023.496880254201 854.6598863601454,...   \n",
              "3       POLYGON ((1023.496779355264 937.0904197282952,...   \n",
              "4       POLYGON ((1023.49670602115 988.0186053329112, ...   \n",
              "...                                                   ...   \n",
              "325569  POLYGON ((948.0944354611244 926.0325910506685,...   \n",
              "325570  POLYGON ((246.0587158227871 728.4964513479449,...   \n",
              "325571  POLYGON ((254.7285181812857 725.2394436973794,...   \n",
              "325572  POLYGON ((395.0661334698472 596.7989554394592,...   \n",
              "325573  POLYGON ((503.2011875788714 786.9607513404492,...   \n",
              "\n",
              "                                                   geowkt    dmg_cat  \\\n",
              "0       POLYGON ((-90.81544679490855 14.39086318334812...  no-damage   \n",
              "1       POLYGON ((-90.81420592027385 14.38829423654861...  no-damage   \n",
              "2       POLYGON ((-90.81324289816379 14.3877907147159,...  no-damage   \n",
              "3       POLYGON ((-90.81324645425258 14.38742543063536...  no-damage   \n",
              "4       POLYGON ((-90.81324865131654 14.38719974659386...  no-damage   \n",
              "...                                                   ...        ...   \n",
              "325569  POLYGON ((-118.7207220434946 34.03458734714199...       none   \n",
              "325570  POLYGON ((-118.7242196184358 34.03535402921331...       none   \n",
              "325571  POLYGON ((-118.7241769006129 34.03536807765626...       none   \n",
              "325572  POLYGON ((-118.7234917508879 34.03590805900979...       none   \n",
              "325573  POLYGON ((-118.7229396752477 34.03513055773881...       none   \n",
              "\n",
              "                                         uid            sensor  \\\n",
              "0       486b0813-ecd2-4b84-856c-9c0e42156953  WORLDVIEW03_VNIR   \n",
              "1       139cf2c8-ad52-4739-82b5-bb646b215e76  WORLDVIEW03_VNIR   \n",
              "2       d43deb4a-529c-4df4-b666-26dd5b17e040  WORLDVIEW03_VNIR   \n",
              "3       563b145d-732d-4eb4-8c77-380519842324  WORLDVIEW03_VNIR   \n",
              "4       56f51b26-d511-461d-bb31-747901a4ea75  WORLDVIEW03_VNIR   \n",
              "...                                      ...               ...   \n",
              "325569  b5914bf1-9a0e-4dbc-9859-eaac05a9ef21       WORLDVIEW02   \n",
              "325570  5ad5fe97-038f-4bbc-aeee-82b790d43b03       WORLDVIEW02   \n",
              "325571  05a2ca67-92d8-4143-ac6f-3688bf0ae1f0       WORLDVIEW02   \n",
              "325572  46bc5b42-a26d-4105-9b20-02d627057e70       WORLDVIEW02   \n",
              "325573  1e2e1601-39f1-45f1-94c6-104770157adc       WORLDVIEW02   \n",
              "\n",
              "       provider_asset_type       gsd              capture_date  \\\n",
              "0         WORLDVIEW03_VNIR  1.408524  2018-06-22T16:55:40.000Z   \n",
              "1         WORLDVIEW03_VNIR  1.408524  2018-06-22T16:55:40.000Z   \n",
              "2         WORLDVIEW03_VNIR  1.408524  2018-06-22T16:55:40.000Z   \n",
              "3         WORLDVIEW03_VNIR  1.408524  2018-06-22T16:55:40.000Z   \n",
              "4         WORLDVIEW03_VNIR  1.408524  2018-06-22T16:55:40.000Z   \n",
              "...                    ...       ...                       ...   \n",
              "325569         WORLDVIEW02  1.900348  2018-10-23T18:50:43.000Z   \n",
              "325570         WORLDVIEW02  1.900348  2018-10-23T18:50:43.000Z   \n",
              "325571         WORLDVIEW02  1.900348  2018-10-23T18:50:43.000Z   \n",
              "325572         WORLDVIEW02  1.900348  2018-10-23T18:50:43.000Z   \n",
              "325573         WORLDVIEW02  1.900348  2018-10-23T18:50:43.000Z   \n",
              "\n",
              "        off_nadir_angle  pan_resolution  sun_azimuth  sun_elevation  \\\n",
              "0              21.97336        0.351739    58.571484      71.182274   \n",
              "1              21.97336        0.351739    58.571484      71.182274   \n",
              "2              21.97336        0.351739    58.571484      71.182274   \n",
              "3              21.97336        0.351739    58.571484      71.182274   \n",
              "4              21.97336        0.351739    58.571484      71.182274   \n",
              "...                 ...             ...          ...            ...   \n",
              "325569          8.88540        0.474044   163.849060      42.730503   \n",
              "325570          8.88540        0.474044   163.849060      42.730503   \n",
              "325571          8.88540        0.474044   163.849060      42.730503   \n",
              "325572          8.88540        0.474044   163.849060      42.730503   \n",
              "325573          8.88540        0.474044   163.849060      42.730503   \n",
              "\n",
              "        target_azimuth           disaster disaster_type        catalog_id  \\\n",
              "0            314.29373  guatemala-volcano       volcano  104001003E575F00   \n",
              "1            314.29373  guatemala-volcano       volcano  104001003E575F00   \n",
              "2            314.29373  guatemala-volcano       volcano  104001003E575F00   \n",
              "3            314.29373  guatemala-volcano       volcano  104001003E575F00   \n",
              "4            314.29373  guatemala-volcano       volcano  104001003E575F00   \n",
              "...                ...                ...           ...               ...   \n",
              "325569       302.29950         socal-fire          fire  1030010085017B00   \n",
              "325570       302.29950         socal-fire          fire  1030010085017B00   \n",
              "325571       302.29950         socal-fire          fire  1030010085017B00   \n",
              "325572       302.29950         socal-fire          fire  1030010085017B00   \n",
              "325573       302.29950         socal-fire          fire  1030010085017B00   \n",
              "\n",
              "        original_width  original_height  width  height  \\\n",
              "0                 1024             1024   1024    1024   \n",
              "1                 1024             1024   1024    1024   \n",
              "2                 1024             1024   1024    1024   \n",
              "3                 1024             1024   1024    1024   \n",
              "4                 1024             1024   1024    1024   \n",
              "...                ...              ...    ...     ...   \n",
              "325569            1024             1024   1024    1024   \n",
              "325570            1024             1024   1024    1024   \n",
              "325571            1024             1024   1024    1024   \n",
              "325572            1024             1024   1024    1024   \n",
              "325573            1024             1024   1024    1024   \n",
              "\n",
              "                                            id  \\\n",
              "0       MjU0NzE2NA.73QhG8U-LJLGkyNS0FB24X8vQS8   \n",
              "1       MjU0NzE2NA.73QhG8U-LJLGkyNS0FB24X8vQS8   \n",
              "2       MjU0NzE2NA.73QhG8U-LJLGkyNS0FB24X8vQS8   \n",
              "3       MjU0NzE2NA.73QhG8U-LJLGkyNS0FB24X8vQS8   \n",
              "4       MjU0NzE2NA.73QhG8U-LJLGkyNS0FB24X8vQS8   \n",
              "...                                        ...   \n",
              "325569  MjU3ODIzNA.AkzdaabZwCkpmhgn7MuwPq6uF84   \n",
              "325570  MjU3ODIzNA.AkzdaabZwCkpmhgn7MuwPq6uF84   \n",
              "325571  MjU3ODIzNA.AkzdaabZwCkpmhgn7MuwPq6uF84   \n",
              "325572  MjU3ODIzNA.AkzdaabZwCkpmhgn7MuwPq6uF84   \n",
              "325573  MjU3ODIzNA.AkzdaabZwCkpmhgn7MuwPq6uF84   \n",
              "\n",
              "                                            img_name  \n",
              "0       guatemala-volcano_00000000_post_disaster.png  \n",
              "1       guatemala-volcano_00000000_post_disaster.png  \n",
              "2       guatemala-volcano_00000000_post_disaster.png  \n",
              "3       guatemala-volcano_00000000_post_disaster.png  \n",
              "4       guatemala-volcano_00000000_post_disaster.png  \n",
              "...                                              ...  \n",
              "325569          socal-fire_00001397_pre_disaster.png  \n",
              "325570          socal-fire_00001397_pre_disaster.png  \n",
              "325571          socal-fire_00001397_pre_disaster.png  \n",
              "325572          socal-fire_00001397_pre_disaster.png  \n",
              "325573          socal-fire_00001397_pre_disaster.png  \n",
              "\n",
              "[325574 rows x 25 columns]"
            ],
            "text/html": [
              "\n",
              "  <div id=\"df-e57154b0-a12a-4ac6-91ca-e2b34d9114f1\">\n",
              "    <div class=\"colab-df-container\">\n",
              "      <div>\n",
              "<style scoped>\n",
              "    .dataframe tbody tr th:only-of-type {\n",
              "        vertical-align: middle;\n",
              "    }\n",
              "\n",
              "    .dataframe tbody tr th {\n",
              "        vertical-align: top;\n",
              "    }\n",
              "\n",
              "    .dataframe thead th {\n",
              "        text-align: right;\n",
              "    }\n",
              "</style>\n",
              "<table border=\"1\" class=\"dataframe\">\n",
              "  <thead>\n",
              "    <tr style=\"text-align: right;\">\n",
              "      <th></th>\n",
              "      <th>obj_type</th>\n",
              "      <th>img_id</th>\n",
              "      <th>type</th>\n",
              "      <th>pixwkt</th>\n",
              "      <th>geowkt</th>\n",
              "      <th>dmg_cat</th>\n",
              "      <th>uid</th>\n",
              "      <th>sensor</th>\n",
              "      <th>provider_asset_type</th>\n",
              "      <th>gsd</th>\n",
              "      <th>capture_date</th>\n",
              "      <th>off_nadir_angle</th>\n",
              "      <th>pan_resolution</th>\n",
              "      <th>sun_azimuth</th>\n",
              "      <th>sun_elevation</th>\n",
              "      <th>target_azimuth</th>\n",
              "      <th>disaster</th>\n",
              "      <th>disaster_type</th>\n",
              "      <th>catalog_id</th>\n",
              "      <th>original_width</th>\n",
              "      <th>original_height</th>\n",
              "      <th>width</th>\n",
              "      <th>height</th>\n",
              "      <th>id</th>\n",
              "      <th>img_name</th>\n",
              "    </tr>\n",
              "  </thead>\n",
              "  <tbody>\n",
              "    <tr>\n",
              "      <th>0</th>\n",
              "      <td>building</td>\n",
              "      <td>00000000</td>\n",
              "      <td>post</td>\n",
              "      <td>POLYGON ((532.1863714054954 165.9824503000504,...</td>\n",
              "      <td>POLYGON ((-90.81544679490855 14.39086318334812...</td>\n",
              "      <td>no-damage</td>\n",
              "      <td>486b0813-ecd2-4b84-856c-9c0e42156953</td>\n",
              "      <td>WORLDVIEW03_VNIR</td>\n",
              "      <td>WORLDVIEW03_VNIR</td>\n",
              "      <td>1.408524</td>\n",
              "      <td>2018-06-22T16:55:40.000Z</td>\n",
              "      <td>21.97336</td>\n",
              "      <td>0.351739</td>\n",
              "      <td>58.571484</td>\n",
              "      <td>71.182274</td>\n",
              "      <td>314.29373</td>\n",
              "      <td>guatemala-volcano</td>\n",
              "      <td>volcano</td>\n",
              "      <td>104001003E575F00</td>\n",
              "      <td>1024</td>\n",
              "      <td>1024</td>\n",
              "      <td>1024</td>\n",
              "      <td>1024</td>\n",
              "      <td>MjU0NzE2NA.73QhG8U-LJLGkyNS0FB24X8vQS8</td>\n",
              "      <td>guatemala-volcano_00000000_post_disaster.png</td>\n",
              "    </tr>\n",
              "    <tr>\n",
              "      <th>1</th>\n",
              "      <td>building</td>\n",
              "      <td>00000000</td>\n",
              "      <td>post</td>\n",
              "      <td>POLYGON ((810.6063087761681 743.0540229226118,...</td>\n",
              "      <td>POLYGON ((-90.81420592027385 14.38829423654861...</td>\n",
              "      <td>no-damage</td>\n",
              "      <td>139cf2c8-ad52-4739-82b5-bb646b215e76</td>\n",
              "      <td>WORLDVIEW03_VNIR</td>\n",
              "      <td>WORLDVIEW03_VNIR</td>\n",
              "      <td>1.408524</td>\n",
              "      <td>2018-06-22T16:55:40.000Z</td>\n",
              "      <td>21.97336</td>\n",
              "      <td>0.351739</td>\n",
              "      <td>58.571484</td>\n",
              "      <td>71.182274</td>\n",
              "      <td>314.29373</td>\n",
              "      <td>guatemala-volcano</td>\n",
              "      <td>volcano</td>\n",
              "      <td>104001003E575F00</td>\n",
              "      <td>1024</td>\n",
              "      <td>1024</td>\n",
              "      <td>1024</td>\n",
              "      <td>1024</td>\n",
              "      <td>MjU0NzE2NA.73QhG8U-LJLGkyNS0FB24X8vQS8</td>\n",
              "      <td>guatemala-volcano_00000000_post_disaster.png</td>\n",
              "    </tr>\n",
              "    <tr>\n",
              "      <th>2</th>\n",
              "      <td>building</td>\n",
              "      <td>00000000</td>\n",
              "      <td>post</td>\n",
              "      <td>POLYGON ((1023.496880254201 854.6598863601454,...</td>\n",
              "      <td>POLYGON ((-90.81324289816379 14.3877907147159,...</td>\n",
              "      <td>no-damage</td>\n",
              "      <td>d43deb4a-529c-4df4-b666-26dd5b17e040</td>\n",
              "      <td>WORLDVIEW03_VNIR</td>\n",
              "      <td>WORLDVIEW03_VNIR</td>\n",
              "      <td>1.408524</td>\n",
              "      <td>2018-06-22T16:55:40.000Z</td>\n",
              "      <td>21.97336</td>\n",
              "      <td>0.351739</td>\n",
              "      <td>58.571484</td>\n",
              "      <td>71.182274</td>\n",
              "      <td>314.29373</td>\n",
              "      <td>guatemala-volcano</td>\n",
              "      <td>volcano</td>\n",
              "      <td>104001003E575F00</td>\n",
              "      <td>1024</td>\n",
              "      <td>1024</td>\n",
              "      <td>1024</td>\n",
              "      <td>1024</td>\n",
              "      <td>MjU0NzE2NA.73QhG8U-LJLGkyNS0FB24X8vQS8</td>\n",
              "      <td>guatemala-volcano_00000000_post_disaster.png</td>\n",
              "    </tr>\n",
              "    <tr>\n",
              "      <th>3</th>\n",
              "      <td>building</td>\n",
              "      <td>00000000</td>\n",
              "      <td>post</td>\n",
              "      <td>POLYGON ((1023.496779355264 937.0904197282952,...</td>\n",
              "      <td>POLYGON ((-90.81324645425258 14.38742543063536...</td>\n",
              "      <td>no-damage</td>\n",
              "      <td>563b145d-732d-4eb4-8c77-380519842324</td>\n",
              "      <td>WORLDVIEW03_VNIR</td>\n",
              "      <td>WORLDVIEW03_VNIR</td>\n",
              "      <td>1.408524</td>\n",
              "      <td>2018-06-22T16:55:40.000Z</td>\n",
              "      <td>21.97336</td>\n",
              "      <td>0.351739</td>\n",
              "      <td>58.571484</td>\n",
              "      <td>71.182274</td>\n",
              "      <td>314.29373</td>\n",
              "      <td>guatemala-volcano</td>\n",
              "      <td>volcano</td>\n",
              "      <td>104001003E575F00</td>\n",
              "      <td>1024</td>\n",
              "      <td>1024</td>\n",
              "      <td>1024</td>\n",
              "      <td>1024</td>\n",
              "      <td>MjU0NzE2NA.73QhG8U-LJLGkyNS0FB24X8vQS8</td>\n",
              "      <td>guatemala-volcano_00000000_post_disaster.png</td>\n",
              "    </tr>\n",
              "    <tr>\n",
              "      <th>4</th>\n",
              "      <td>building</td>\n",
              "      <td>00000000</td>\n",
              "      <td>post</td>\n",
              "      <td>POLYGON ((1023.49670602115 988.0186053329112, ...</td>\n",
              "      <td>POLYGON ((-90.81324865131654 14.38719974659386...</td>\n",
              "      <td>no-damage</td>\n",
              "      <td>56f51b26-d511-461d-bb31-747901a4ea75</td>\n",
              "      <td>WORLDVIEW03_VNIR</td>\n",
              "      <td>WORLDVIEW03_VNIR</td>\n",
              "      <td>1.408524</td>\n",
              "      <td>2018-06-22T16:55:40.000Z</td>\n",
              "      <td>21.97336</td>\n",
              "      <td>0.351739</td>\n",
              "      <td>58.571484</td>\n",
              "      <td>71.182274</td>\n",
              "      <td>314.29373</td>\n",
              "      <td>guatemala-volcano</td>\n",
              "      <td>volcano</td>\n",
              "      <td>104001003E575F00</td>\n",
              "      <td>1024</td>\n",
              "      <td>1024</td>\n",
              "      <td>1024</td>\n",
              "      <td>1024</td>\n",
              "      <td>MjU0NzE2NA.73QhG8U-LJLGkyNS0FB24X8vQS8</td>\n",
              "      <td>guatemala-volcano_00000000_post_disaster.png</td>\n",
              "    </tr>\n",
              "    <tr>\n",
              "      <th>...</th>\n",
              "      <td>...</td>\n",
              "      <td>...</td>\n",
              "      <td>...</td>\n",
              "      <td>...</td>\n",
              "      <td>...</td>\n",
              "      <td>...</td>\n",
              "      <td>...</td>\n",
              "      <td>...</td>\n",
              "      <td>...</td>\n",
              "      <td>...</td>\n",
              "      <td>...</td>\n",
              "      <td>...</td>\n",
              "      <td>...</td>\n",
              "      <td>...</td>\n",
              "      <td>...</td>\n",
              "      <td>...</td>\n",
              "      <td>...</td>\n",
              "      <td>...</td>\n",
              "      <td>...</td>\n",
              "      <td>...</td>\n",
              "      <td>...</td>\n",
              "      <td>...</td>\n",
              "      <td>...</td>\n",
              "      <td>...</td>\n",
              "      <td>...</td>\n",
              "    </tr>\n",
              "    <tr>\n",
              "      <th>325569</th>\n",
              "      <td>building</td>\n",
              "      <td>00001397</td>\n",
              "      <td>pre</td>\n",
              "      <td>POLYGON ((948.0944354611244 926.0325910506685,...</td>\n",
              "      <td>POLYGON ((-118.7207220434946 34.03458734714199...</td>\n",
              "      <td>none</td>\n",
              "      <td>b5914bf1-9a0e-4dbc-9859-eaac05a9ef21</td>\n",
              "      <td>WORLDVIEW02</td>\n",
              "      <td>WORLDVIEW02</td>\n",
              "      <td>1.900348</td>\n",
              "      <td>2018-10-23T18:50:43.000Z</td>\n",
              "      <td>8.88540</td>\n",
              "      <td>0.474044</td>\n",
              "      <td>163.849060</td>\n",
              "      <td>42.730503</td>\n",
              "      <td>302.29950</td>\n",
              "      <td>socal-fire</td>\n",
              "      <td>fire</td>\n",
              "      <td>1030010085017B00</td>\n",
              "      <td>1024</td>\n",
              "      <td>1024</td>\n",
              "      <td>1024</td>\n",
              "      <td>1024</td>\n",
              "      <td>MjU3ODIzNA.AkzdaabZwCkpmhgn7MuwPq6uF84</td>\n",
              "      <td>socal-fire_00001397_pre_disaster.png</td>\n",
              "    </tr>\n",
              "    <tr>\n",
              "      <th>325570</th>\n",
              "      <td>building</td>\n",
              "      <td>00001397</td>\n",
              "      <td>pre</td>\n",
              "      <td>POLYGON ((246.0587158227871 728.4964513479449,...</td>\n",
              "      <td>POLYGON ((-118.7242196184358 34.03535402921331...</td>\n",
              "      <td>none</td>\n",
              "      <td>5ad5fe97-038f-4bbc-aeee-82b790d43b03</td>\n",
              "      <td>WORLDVIEW02</td>\n",
              "      <td>WORLDVIEW02</td>\n",
              "      <td>1.900348</td>\n",
              "      <td>2018-10-23T18:50:43.000Z</td>\n",
              "      <td>8.88540</td>\n",
              "      <td>0.474044</td>\n",
              "      <td>163.849060</td>\n",
              "      <td>42.730503</td>\n",
              "      <td>302.29950</td>\n",
              "      <td>socal-fire</td>\n",
              "      <td>fire</td>\n",
              "      <td>1030010085017B00</td>\n",
              "      <td>1024</td>\n",
              "      <td>1024</td>\n",
              "      <td>1024</td>\n",
              "      <td>1024</td>\n",
              "      <td>MjU3ODIzNA.AkzdaabZwCkpmhgn7MuwPq6uF84</td>\n",
              "      <td>socal-fire_00001397_pre_disaster.png</td>\n",
              "    </tr>\n",
              "    <tr>\n",
              "      <th>325571</th>\n",
              "      <td>building</td>\n",
              "      <td>00001397</td>\n",
              "      <td>pre</td>\n",
              "      <td>POLYGON ((254.7285181812857 725.2394436973794,...</td>\n",
              "      <td>POLYGON ((-118.7241769006129 34.03536807765626...</td>\n",
              "      <td>none</td>\n",
              "      <td>05a2ca67-92d8-4143-ac6f-3688bf0ae1f0</td>\n",
              "      <td>WORLDVIEW02</td>\n",
              "      <td>WORLDVIEW02</td>\n",
              "      <td>1.900348</td>\n",
              "      <td>2018-10-23T18:50:43.000Z</td>\n",
              "      <td>8.88540</td>\n",
              "      <td>0.474044</td>\n",
              "      <td>163.849060</td>\n",
              "      <td>42.730503</td>\n",
              "      <td>302.29950</td>\n",
              "      <td>socal-fire</td>\n",
              "      <td>fire</td>\n",
              "      <td>1030010085017B00</td>\n",
              "      <td>1024</td>\n",
              "      <td>1024</td>\n",
              "      <td>1024</td>\n",
              "      <td>1024</td>\n",
              "      <td>MjU3ODIzNA.AkzdaabZwCkpmhgn7MuwPq6uF84</td>\n",
              "      <td>socal-fire_00001397_pre_disaster.png</td>\n",
              "    </tr>\n",
              "    <tr>\n",
              "      <th>325572</th>\n",
              "      <td>building</td>\n",
              "      <td>00001397</td>\n",
              "      <td>pre</td>\n",
              "      <td>POLYGON ((395.0661334698472 596.7989554394592,...</td>\n",
              "      <td>POLYGON ((-118.7234917508879 34.03590805900979...</td>\n",
              "      <td>none</td>\n",
              "      <td>46bc5b42-a26d-4105-9b20-02d627057e70</td>\n",
              "      <td>WORLDVIEW02</td>\n",
              "      <td>WORLDVIEW02</td>\n",
              "      <td>1.900348</td>\n",
              "      <td>2018-10-23T18:50:43.000Z</td>\n",
              "      <td>8.88540</td>\n",
              "      <td>0.474044</td>\n",
              "      <td>163.849060</td>\n",
              "      <td>42.730503</td>\n",
              "      <td>302.29950</td>\n",
              "      <td>socal-fire</td>\n",
              "      <td>fire</td>\n",
              "      <td>1030010085017B00</td>\n",
              "      <td>1024</td>\n",
              "      <td>1024</td>\n",
              "      <td>1024</td>\n",
              "      <td>1024</td>\n",
              "      <td>MjU3ODIzNA.AkzdaabZwCkpmhgn7MuwPq6uF84</td>\n",
              "      <td>socal-fire_00001397_pre_disaster.png</td>\n",
              "    </tr>\n",
              "    <tr>\n",
              "      <th>325573</th>\n",
              "      <td>building</td>\n",
              "      <td>00001397</td>\n",
              "      <td>pre</td>\n",
              "      <td>POLYGON ((503.2011875788714 786.9607513404492,...</td>\n",
              "      <td>POLYGON ((-118.7229396752477 34.03513055773881...</td>\n",
              "      <td>none</td>\n",
              "      <td>1e2e1601-39f1-45f1-94c6-104770157adc</td>\n",
              "      <td>WORLDVIEW02</td>\n",
              "      <td>WORLDVIEW02</td>\n",
              "      <td>1.900348</td>\n",
              "      <td>2018-10-23T18:50:43.000Z</td>\n",
              "      <td>8.88540</td>\n",
              "      <td>0.474044</td>\n",
              "      <td>163.849060</td>\n",
              "      <td>42.730503</td>\n",
              "      <td>302.29950</td>\n",
              "      <td>socal-fire</td>\n",
              "      <td>fire</td>\n",
              "      <td>1030010085017B00</td>\n",
              "      <td>1024</td>\n",
              "      <td>1024</td>\n",
              "      <td>1024</td>\n",
              "      <td>1024</td>\n",
              "      <td>MjU3ODIzNA.AkzdaabZwCkpmhgn7MuwPq6uF84</td>\n",
              "      <td>socal-fire_00001397_pre_disaster.png</td>\n",
              "    </tr>\n",
              "  </tbody>\n",
              "</table>\n",
              "<p>325574 rows × 25 columns</p>\n",
              "</div>\n",
              "      <button class=\"colab-df-convert\" onclick=\"convertToInteractive('df-e57154b0-a12a-4ac6-91ca-e2b34d9114f1')\"\n",
              "              title=\"Convert this dataframe to an interactive table.\"\n",
              "              style=\"display:none;\">\n",
              "        \n",
              "  <svg xmlns=\"http://www.w3.org/2000/svg\" height=\"24px\"viewBox=\"0 0 24 24\"\n",
              "       width=\"24px\">\n",
              "    <path d=\"M0 0h24v24H0V0z\" fill=\"none\"/>\n",
              "    <path d=\"M18.56 5.44l.94 2.06.94-2.06 2.06-.94-2.06-.94-.94-2.06-.94 2.06-2.06.94zm-11 1L8.5 8.5l.94-2.06 2.06-.94-2.06-.94L8.5 2.5l-.94 2.06-2.06.94zm10 10l.94 2.06.94-2.06 2.06-.94-2.06-.94-.94-2.06-.94 2.06-2.06.94z\"/><path d=\"M17.41 7.96l-1.37-1.37c-.4-.4-.92-.59-1.43-.59-.52 0-1.04.2-1.43.59L10.3 9.45l-7.72 7.72c-.78.78-.78 2.05 0 2.83L4 21.41c.39.39.9.59 1.41.59.51 0 1.02-.2 1.41-.59l7.78-7.78 2.81-2.81c.8-.78.8-2.07 0-2.86zM5.41 20L4 18.59l7.72-7.72 1.47 1.35L5.41 20z\"/>\n",
              "  </svg>\n",
              "      </button>\n",
              "      \n",
              "  <style>\n",
              "    .colab-df-container {\n",
              "      display:flex;\n",
              "      flex-wrap:wrap;\n",
              "      gap: 12px;\n",
              "    }\n",
              "\n",
              "    .colab-df-convert {\n",
              "      background-color: #E8F0FE;\n",
              "      border: none;\n",
              "      border-radius: 50%;\n",
              "      cursor: pointer;\n",
              "      display: none;\n",
              "      fill: #1967D2;\n",
              "      height: 32px;\n",
              "      padding: 0 0 0 0;\n",
              "      width: 32px;\n",
              "    }\n",
              "\n",
              "    .colab-df-convert:hover {\n",
              "      background-color: #E2EBFA;\n",
              "      box-shadow: 0px 1px 2px rgba(60, 64, 67, 0.3), 0px 1px 3px 1px rgba(60, 64, 67, 0.15);\n",
              "      fill: #174EA6;\n",
              "    }\n",
              "\n",
              "    [theme=dark] .colab-df-convert {\n",
              "      background-color: #3B4455;\n",
              "      fill: #D2E3FC;\n",
              "    }\n",
              "\n",
              "    [theme=dark] .colab-df-convert:hover {\n",
              "      background-color: #434B5C;\n",
              "      box-shadow: 0px 1px 3px 1px rgba(0, 0, 0, 0.15);\n",
              "      filter: drop-shadow(0px 1px 2px rgba(0, 0, 0, 0.3));\n",
              "      fill: #FFFFFF;\n",
              "    }\n",
              "  </style>\n",
              "\n",
              "      <script>\n",
              "        const buttonEl =\n",
              "          document.querySelector('#df-e57154b0-a12a-4ac6-91ca-e2b34d9114f1 button.colab-df-convert');\n",
              "        buttonEl.style.display =\n",
              "          google.colab.kernel.accessAllowed ? 'block' : 'none';\n",
              "\n",
              "        async function convertToInteractive(key) {\n",
              "          const element = document.querySelector('#df-e57154b0-a12a-4ac6-91ca-e2b34d9114f1');\n",
              "          const dataTable =\n",
              "            await google.colab.kernel.invokeFunction('convertToInteractive',\n",
              "                                                     [key], {});\n",
              "          if (!dataTable) return;\n",
              "\n",
              "          const docLinkHtml = 'Like what you see? Visit the ' +\n",
              "            '<a target=\"_blank\" href=https://colab.research.google.com/notebooks/data_table.ipynb>data table notebook</a>'\n",
              "            + ' to learn more about interactive tables.';\n",
              "          element.innerHTML = '';\n",
              "          dataTable['output_type'] = 'display_data';\n",
              "          await google.colab.output.renderOutput(dataTable, element);\n",
              "          const docLink = document.createElement('div');\n",
              "          docLink.innerHTML = docLinkHtml;\n",
              "          element.appendChild(docLink);\n",
              "        }\n",
              "      </script>\n",
              "    </div>\n",
              "  </div>\n",
              "  "
            ]
          },
          "metadata": {},
          "execution_count": 128
        }
      ]
    },
    {
      "cell_type": "code",
      "source": [
        "print(\"train df length : \", len(train_df))"
      ],
      "metadata": {
        "colab": {
          "base_uri": "https://localhost:8080/"
        },
        "id": "XbBCmI1e_8iN",
        "outputId": "f9e1ebb6-cf1b-446f-c492-4440d4151131"
      },
      "execution_count": 210,
      "outputs": [
        {
          "output_type": "stream",
          "name": "stdout",
          "text": [
            "train df length :  325574\n"
          ]
        }
      ]
    },
    {
      "cell_type": "code",
      "source": [
        "print(\"df unique rows : \", train_df['uid'].nunique())"
      ],
      "metadata": {
        "colab": {
          "base_uri": "https://localhost:8080/"
        },
        "id": "N9M77EO18ThK",
        "outputId": "cdb4267a-cc26-4147-c3b0-9a5584650ecd"
      },
      "execution_count": 206,
      "outputs": [
        {
          "output_type": "stream",
          "name": "stdout",
          "text": [
            "df unique rows :  162787\n"
          ]
        }
      ]
    },
    {
      "cell_type": "code",
      "source": [
        "print(\"df columns : \", train_df.columns)"
      ],
      "metadata": {
        "colab": {
          "base_uri": "https://localhost:8080/"
        },
        "id": "PnsCA9ue8Tka",
        "outputId": "2f2a74af-5566-42ea-e3ce-a37ec5b8e225"
      },
      "execution_count": null,
      "outputs": [
        {
          "output_type": "stream",
          "name": "stdout",
          "text": [
            "df columns :  Index(['obj_type', 'img_id', 'type', 'pixwkt', 'geowkt', 'dmg_cat', 'uid',\n",
            "       'sensor', 'provider_asset_type', 'gsd', 'capture_date',\n",
            "       'off_nadir_angle', 'pan_resolution', 'sun_azimuth', 'sun_elevation',\n",
            "       'target_azimuth', 'disaster', 'disaster_type', 'catalog_id',\n",
            "       'original_width', 'original_height', 'width', 'height', 'id',\n",
            "       'img_name'],\n",
            "      dtype='object')\n"
          ]
        }
      ]
    },
    {
      "cell_type": "code",
      "source": [
        "print(\"Unique disasters types in df : \", train_df['disaster_type'].unique())"
      ],
      "metadata": {
        "colab": {
          "base_uri": "https://localhost:8080/"
        },
        "id": "JoFZrlZB8qrC",
        "outputId": "ab85d527-584e-4fca-f933-4e9626ac8e9f"
      },
      "execution_count": null,
      "outputs": [
        {
          "output_type": "stream",
          "name": "stdout",
          "text": [
            "Unique disasters types in df :  ['volcano' 'flooding' 'wind' 'earthquake' 'tsunami' 'fire']\n"
          ]
        }
      ]
    },
    {
      "cell_type": "code",
      "source": [
        "print(\"Unique disasters in df : \", train_df['disaster'].unique())"
      ],
      "metadata": {
        "colab": {
          "base_uri": "https://localhost:8080/"
        },
        "id": "YKarTH2P8qto",
        "outputId": "2d3d57ec-e43f-45c9-c5e9-1429b5100447"
      },
      "execution_count": null,
      "outputs": [
        {
          "output_type": "stream",
          "name": "stdout",
          "text": [
            "Unique disasters in df :  ['guatemala-volcano' 'hurricane-florence' 'hurricane-harvey'\n",
            " 'hurricane-matthew' 'hurricane-michael' 'mexico-earthquake'\n",
            " 'midwest-flooding' 'palu-tsunami' 'santa-rosa-wildfire' 'socal-fire']\n"
          ]
        }
      ]
    },
    {
      "cell_type": "markdown",
      "source": [],
      "metadata": {
        "id": "5YddbP72BrEr"
      }
    },
    {
      "cell_type": "code",
      "source": [
        "print(\"Unique damage cat in df : \", train_df['dmg_cat'].unique())"
      ],
      "metadata": {
        "colab": {
          "base_uri": "https://localhost:8080/"
        },
        "id": "3uNU6FXk8qwZ",
        "outputId": "b9511e74-ac0e-48ac-c14d-b8e3b7258ff5"
      },
      "execution_count": null,
      "outputs": [
        {
          "output_type": "stream",
          "name": "stdout",
          "text": [
            "Unique damage cat in df :  ['no-damage' 'none' 'minor-damage' 'destroyed' 'major-damage'\n",
            " 'un-classified']\n"
          ]
        }
      ]
    },
    {
      "cell_type": "markdown",
      "source": [
        "# Pre-post disaster visualization"
      ],
      "metadata": {
        "id": "ue-nCaxICc9e"
      }
    },
    {
      "cell_type": "code",
      "source": [
        "# view_pre_post(train_df, disaster=\"guatemala-volcano\", imid=\"00000015\")"
      ],
      "metadata": {
        "id": "EfOLHeRLClrU"
      },
      "execution_count": 187,
      "outputs": []
    },
    {
      "cell_type": "code",
      "source": [
        "from google.colab import drive\n",
        "drive.mount('/content/drive')"
      ],
      "metadata": {
        "id": "buNyC3uXpJsJ"
      },
      "execution_count": null,
      "outputs": []
    },
    {
      "cell_type": "markdown",
      "source": [
        "# Analyzing a single json file"
      ],
      "metadata": {
        "id": "Cm46BGENBO2Z"
      }
    },
    {
      "cell_type": "code",
      "source": [
        "# single jason file related to guatemala-volcano\n",
        "jason_path = '/content/gdrive/My Drive/MADS_CourseWork/Capstone/Capstone/Data/train/labels/guatemala-volcano_00000015_pre_disaster.json'"
      ],
      "metadata": {
        "id": "7EL24H3J8qy5"
      },
      "execution_count": null,
      "outputs": []
    },
    {
      "cell_type": "code",
      "source": [
        "with open(jason_path) as f:\n",
        "    label_json = json.load(f)"
      ],
      "metadata": {
        "id": "z-hqW8D39ZuT"
      },
      "execution_count": null,
      "outputs": []
    },
    {
      "cell_type": "code",
      "source": [
        "print(label_json.keys()) \n",
        "print(label_json['features'].keys())\n",
        "print(label_json['metadata'].keys())"
      ],
      "metadata": {
        "id": "RBolHO_s9ZxK",
        "colab": {
          "base_uri": "https://localhost:8080/"
        },
        "outputId": "412114e3-ed91-4d37-9eea-da66036f9fe6"
      },
      "execution_count": null,
      "outputs": [
        {
          "output_type": "stream",
          "name": "stdout",
          "text": [
            "dict_keys(['features', 'metadata'])\n",
            "dict_keys(['lng_lat', 'xy'])\n",
            "dict_keys(['sensor', 'provider_asset_type', 'gsd', 'capture_date', 'off_nadir_angle', 'pan_resolution', 'sun_azimuth', 'sun_elevation', 'target_azimuth', 'disaster', 'disaster_type', 'catalog_id', 'original_width', 'original_height', 'width', 'height', 'id', 'img_name'])\n"
          ]
        }
      ]
    },
    {
      "cell_type": "code",
      "source": [
        "label_json['features']['xy'][1]"
      ],
      "metadata": {
        "id": "wkiDte7K9Zz4",
        "colab": {
          "base_uri": "https://localhost:8080/"
        },
        "outputId": "c54f2b98-c8d5-4568-c9b9-2251eed0839f"
      },
      "execution_count": 189,
      "outputs": [
        {
          "output_type": "execute_result",
          "data": {
            "text/plain": [
              "{'properties': {'feature_type': 'building',\n",
              "  'uid': 'ac83c6cd-25ac-47d7-90aa-be52d45097ac'},\n",
              " 'wkt': 'POLYGON ((481.0148884250907 687.2893687194741, 467.3890788775345 693.5664270503709, 463.2554063181636 685.2990819316288, 491.7318172827191 672.8980642535159, 497.8557766299354 688.361061605237, 483.4644721639772 694.1788229850924, 481.0148884250907 687.2893687194741))'}"
            ]
          },
          "metadata": {},
          "execution_count": 189
        }
      ]
    },
    {
      "cell_type": "code",
      "source": [],
      "metadata": {
        "id": "4DAwU9wx0dOx"
      },
      "execution_count": 193,
      "outputs": []
    },
    {
      "cell_type": "code",
      "source": [],
      "metadata": {
        "id": "4WU_K0jkzM6_"
      },
      "execution_count": 193,
      "outputs": []
    },
    {
      "cell_type": "markdown",
      "source": [
        "# Data aggregation"
      ],
      "metadata": {
        "id": "td2cKHFA--8d"
      }
    },
    {
      "cell_type": "code",
      "source": [
        "test_df = ann_dictionary_ann_df(test_labels_path)\n",
        "\n",
        "hold_df = ann_dictionary_ann_df(hold_labels_path)"
      ],
      "metadata": {
        "colab": {
          "base_uri": "https://localhost:8080/"
        },
        "id": "1vuRnW9SzM-G",
        "outputId": "bda4d9d7-a830-4863-d509-ae87a63f1266"
      },
      "execution_count": 195,
      "outputs": [
        {
          "output_type": "stream",
          "name": "stdout",
          "text": [
            "Loading annotations into memory...\n",
            "Done (t=56.73s)\n",
            "Creating annotation dataframe...\n",
            "Done (t=2.65s)\n",
            "Loading annotations into memory...\n",
            "Done (t=30.13s)\n",
            "Creating annotation dataframe...\n",
            "Done (t=2.78s)\n"
          ]
        }
      ]
    },
    {
      "cell_type": "code",
      "source": [
        "print(\"test df length : \", len(test_df))\n",
        "print(\"hold df length : \", len(hold_df))\n"
      ],
      "metadata": {
        "colab": {
          "base_uri": "https://localhost:8080/"
        },
        "id": "V7SoYop7zNEH",
        "outputId": "186a5d37-ab3f-4c8e-9fed-5273801894e1"
      },
      "execution_count": 213,
      "outputs": [
        {
          "output_type": "stream",
          "name": "stdout",
          "text": [
            "test df length :  109724\n",
            "hold df length :  108784\n"
          ]
        }
      ]
    },
    {
      "cell_type": "code",
      "source": [
        "# df_all = train_df.merge(test_df, on='uid').merge(hold_df, on='uid')\n",
        "df_all = pd.concat([train_df, test_df, hold_df])\n",
        "\n",
        "len(df_all)"
      ],
      "metadata": {
        "colab": {
          "base_uri": "https://localhost:8080/"
        },
        "id": "cVaIrYUdzNBM",
        "outputId": "0fd6553a-5e2a-414c-c381-eafb2705fd46"
      },
      "execution_count": 217,
      "outputs": [
        {
          "output_type": "execute_result",
          "data": {
            "text/plain": [
              "544082"
            ]
          },
          "metadata": {},
          "execution_count": 217
        }
      ]
    },
    {
      "cell_type": "code",
      "source": [
        "grouped_multiple = df_all.groupby(['disaster', 'dmg_cat'])['id'].count().reset_index(name=\"count\")\n",
        "grouped_multiple = grouped_multiple[grouped_multiple.dmg_cat != \"none\"]\n",
        "grouped_multiple"
      ],
      "metadata": {
        "colab": {
          "base_uri": "https://localhost:8080/",
          "height": 1000
        },
        "id": "7q0ledwCzNHG",
        "outputId": "8ebf527c-3e6b-4ef4-8143-77bd36f216e7"
      },
      "execution_count": 231,
      "outputs": [
        {
          "output_type": "execute_result",
          "data": {
            "text/plain": [
              "               disaster        dmg_cat  count\n",
              "0     guatemala-volcano      destroyed     33\n",
              "1     guatemala-volcano   major-damage     23\n",
              "2     guatemala-volcano   minor-damage     26\n",
              "3     guatemala-volcano      no-damage    731\n",
              "5     guatemala-volcano  un-classified    178\n",
              "6    hurricane-florence      destroyed     81\n",
              "7    hurricane-florence   major-damage   1949\n",
              "8    hurricane-florence   minor-damage    232\n",
              "9    hurricane-florence      no-damage   8466\n",
              "11   hurricane-florence  un-classified    820\n",
              "12     hurricane-harvey      destroyed    848\n",
              "13     hurricane-harvey   major-damage  13378\n",
              "14     hurricane-harvey   minor-damage   4510\n",
              "15     hurricane-harvey      no-damage  18638\n",
              "17     hurricane-harvey  un-classified    581\n",
              "18    hurricane-matthew      destroyed   3524\n",
              "19    hurricane-matthew   major-damage   2717\n",
              "20    hurricane-matthew   minor-damage  12331\n",
              "21    hurricane-matthew      no-damage   4058\n",
              "23    hurricane-matthew  un-classified   1334\n",
              "24    hurricane-michael      destroyed   1225\n",
              "25    hurricane-michael   major-damage   2919\n",
              "26    hurricane-michael   minor-damage   8292\n",
              "27    hurricane-michael      no-damage  22692\n",
              "29    hurricane-michael  un-classified    373\n",
              "30    mexico-earthquake      destroyed      3\n",
              "31    mexico-earthquake   major-damage     54\n",
              "32    mexico-earthquake   minor-damage    221\n",
              "33    mexico-earthquake      no-damage  51084\n",
              "35    mexico-earthquake  un-classified    111\n",
              "36     midwest-flooding      destroyed    165\n",
              "37     midwest-flooding   major-damage    193\n",
              "38     midwest-flooding   minor-damage    246\n",
              "39     midwest-flooding      no-damage  12819\n",
              "41     midwest-flooding  un-classified    473\n",
              "42         palu-tsunami      destroyed   7203\n",
              "43         palu-tsunami   major-damage   1178\n",
              "44         palu-tsunami   minor-damage      1\n",
              "45         palu-tsunami      no-damage  46796\n",
              "47         palu-tsunami  un-classified    611\n",
              "48  santa-rosa-wildfire      destroyed   5810\n",
              "49  santa-rosa-wildfire   major-damage     95\n",
              "50  santa-rosa-wildfire   minor-damage    121\n",
              "51  santa-rosa-wildfire      no-damage  15843\n",
              "53  santa-rosa-wildfire  un-classified     86\n",
              "54           socal-fire      destroyed   2333\n",
              "55           socal-fire   major-damage    110\n",
              "56           socal-fire   minor-damage    136\n",
              "57           socal-fire      no-damage  15697\n",
              "59           socal-fire  un-classified    693"
            ],
            "text/html": [
              "\n",
              "  <div id=\"df-1ffe8b09-f578-4cec-868f-59b0de724d76\">\n",
              "    <div class=\"colab-df-container\">\n",
              "      <div>\n",
              "<style scoped>\n",
              "    .dataframe tbody tr th:only-of-type {\n",
              "        vertical-align: middle;\n",
              "    }\n",
              "\n",
              "    .dataframe tbody tr th {\n",
              "        vertical-align: top;\n",
              "    }\n",
              "\n",
              "    .dataframe thead th {\n",
              "        text-align: right;\n",
              "    }\n",
              "</style>\n",
              "<table border=\"1\" class=\"dataframe\">\n",
              "  <thead>\n",
              "    <tr style=\"text-align: right;\">\n",
              "      <th></th>\n",
              "      <th>disaster</th>\n",
              "      <th>dmg_cat</th>\n",
              "      <th>count</th>\n",
              "    </tr>\n",
              "  </thead>\n",
              "  <tbody>\n",
              "    <tr>\n",
              "      <th>0</th>\n",
              "      <td>guatemala-volcano</td>\n",
              "      <td>destroyed</td>\n",
              "      <td>33</td>\n",
              "    </tr>\n",
              "    <tr>\n",
              "      <th>1</th>\n",
              "      <td>guatemala-volcano</td>\n",
              "      <td>major-damage</td>\n",
              "      <td>23</td>\n",
              "    </tr>\n",
              "    <tr>\n",
              "      <th>2</th>\n",
              "      <td>guatemala-volcano</td>\n",
              "      <td>minor-damage</td>\n",
              "      <td>26</td>\n",
              "    </tr>\n",
              "    <tr>\n",
              "      <th>3</th>\n",
              "      <td>guatemala-volcano</td>\n",
              "      <td>no-damage</td>\n",
              "      <td>731</td>\n",
              "    </tr>\n",
              "    <tr>\n",
              "      <th>5</th>\n",
              "      <td>guatemala-volcano</td>\n",
              "      <td>un-classified</td>\n",
              "      <td>178</td>\n",
              "    </tr>\n",
              "    <tr>\n",
              "      <th>6</th>\n",
              "      <td>hurricane-florence</td>\n",
              "      <td>destroyed</td>\n",
              "      <td>81</td>\n",
              "    </tr>\n",
              "    <tr>\n",
              "      <th>7</th>\n",
              "      <td>hurricane-florence</td>\n",
              "      <td>major-damage</td>\n",
              "      <td>1949</td>\n",
              "    </tr>\n",
              "    <tr>\n",
              "      <th>8</th>\n",
              "      <td>hurricane-florence</td>\n",
              "      <td>minor-damage</td>\n",
              "      <td>232</td>\n",
              "    </tr>\n",
              "    <tr>\n",
              "      <th>9</th>\n",
              "      <td>hurricane-florence</td>\n",
              "      <td>no-damage</td>\n",
              "      <td>8466</td>\n",
              "    </tr>\n",
              "    <tr>\n",
              "      <th>11</th>\n",
              "      <td>hurricane-florence</td>\n",
              "      <td>un-classified</td>\n",
              "      <td>820</td>\n",
              "    </tr>\n",
              "    <tr>\n",
              "      <th>12</th>\n",
              "      <td>hurricane-harvey</td>\n",
              "      <td>destroyed</td>\n",
              "      <td>848</td>\n",
              "    </tr>\n",
              "    <tr>\n",
              "      <th>13</th>\n",
              "      <td>hurricane-harvey</td>\n",
              "      <td>major-damage</td>\n",
              "      <td>13378</td>\n",
              "    </tr>\n",
              "    <tr>\n",
              "      <th>14</th>\n",
              "      <td>hurricane-harvey</td>\n",
              "      <td>minor-damage</td>\n",
              "      <td>4510</td>\n",
              "    </tr>\n",
              "    <tr>\n",
              "      <th>15</th>\n",
              "      <td>hurricane-harvey</td>\n",
              "      <td>no-damage</td>\n",
              "      <td>18638</td>\n",
              "    </tr>\n",
              "    <tr>\n",
              "      <th>17</th>\n",
              "      <td>hurricane-harvey</td>\n",
              "      <td>un-classified</td>\n",
              "      <td>581</td>\n",
              "    </tr>\n",
              "    <tr>\n",
              "      <th>18</th>\n",
              "      <td>hurricane-matthew</td>\n",
              "      <td>destroyed</td>\n",
              "      <td>3524</td>\n",
              "    </tr>\n",
              "    <tr>\n",
              "      <th>19</th>\n",
              "      <td>hurricane-matthew</td>\n",
              "      <td>major-damage</td>\n",
              "      <td>2717</td>\n",
              "    </tr>\n",
              "    <tr>\n",
              "      <th>20</th>\n",
              "      <td>hurricane-matthew</td>\n",
              "      <td>minor-damage</td>\n",
              "      <td>12331</td>\n",
              "    </tr>\n",
              "    <tr>\n",
              "      <th>21</th>\n",
              "      <td>hurricane-matthew</td>\n",
              "      <td>no-damage</td>\n",
              "      <td>4058</td>\n",
              "    </tr>\n",
              "    <tr>\n",
              "      <th>23</th>\n",
              "      <td>hurricane-matthew</td>\n",
              "      <td>un-classified</td>\n",
              "      <td>1334</td>\n",
              "    </tr>\n",
              "    <tr>\n",
              "      <th>24</th>\n",
              "      <td>hurricane-michael</td>\n",
              "      <td>destroyed</td>\n",
              "      <td>1225</td>\n",
              "    </tr>\n",
              "    <tr>\n",
              "      <th>25</th>\n",
              "      <td>hurricane-michael</td>\n",
              "      <td>major-damage</td>\n",
              "      <td>2919</td>\n",
              "    </tr>\n",
              "    <tr>\n",
              "      <th>26</th>\n",
              "      <td>hurricane-michael</td>\n",
              "      <td>minor-damage</td>\n",
              "      <td>8292</td>\n",
              "    </tr>\n",
              "    <tr>\n",
              "      <th>27</th>\n",
              "      <td>hurricane-michael</td>\n",
              "      <td>no-damage</td>\n",
              "      <td>22692</td>\n",
              "    </tr>\n",
              "    <tr>\n",
              "      <th>29</th>\n",
              "      <td>hurricane-michael</td>\n",
              "      <td>un-classified</td>\n",
              "      <td>373</td>\n",
              "    </tr>\n",
              "    <tr>\n",
              "      <th>30</th>\n",
              "      <td>mexico-earthquake</td>\n",
              "      <td>destroyed</td>\n",
              "      <td>3</td>\n",
              "    </tr>\n",
              "    <tr>\n",
              "      <th>31</th>\n",
              "      <td>mexico-earthquake</td>\n",
              "      <td>major-damage</td>\n",
              "      <td>54</td>\n",
              "    </tr>\n",
              "    <tr>\n",
              "      <th>32</th>\n",
              "      <td>mexico-earthquake</td>\n",
              "      <td>minor-damage</td>\n",
              "      <td>221</td>\n",
              "    </tr>\n",
              "    <tr>\n",
              "      <th>33</th>\n",
              "      <td>mexico-earthquake</td>\n",
              "      <td>no-damage</td>\n",
              "      <td>51084</td>\n",
              "    </tr>\n",
              "    <tr>\n",
              "      <th>35</th>\n",
              "      <td>mexico-earthquake</td>\n",
              "      <td>un-classified</td>\n",
              "      <td>111</td>\n",
              "    </tr>\n",
              "    <tr>\n",
              "      <th>36</th>\n",
              "      <td>midwest-flooding</td>\n",
              "      <td>destroyed</td>\n",
              "      <td>165</td>\n",
              "    </tr>\n",
              "    <tr>\n",
              "      <th>37</th>\n",
              "      <td>midwest-flooding</td>\n",
              "      <td>major-damage</td>\n",
              "      <td>193</td>\n",
              "    </tr>\n",
              "    <tr>\n",
              "      <th>38</th>\n",
              "      <td>midwest-flooding</td>\n",
              "      <td>minor-damage</td>\n",
              "      <td>246</td>\n",
              "    </tr>\n",
              "    <tr>\n",
              "      <th>39</th>\n",
              "      <td>midwest-flooding</td>\n",
              "      <td>no-damage</td>\n",
              "      <td>12819</td>\n",
              "    </tr>\n",
              "    <tr>\n",
              "      <th>41</th>\n",
              "      <td>midwest-flooding</td>\n",
              "      <td>un-classified</td>\n",
              "      <td>473</td>\n",
              "    </tr>\n",
              "    <tr>\n",
              "      <th>42</th>\n",
              "      <td>palu-tsunami</td>\n",
              "      <td>destroyed</td>\n",
              "      <td>7203</td>\n",
              "    </tr>\n",
              "    <tr>\n",
              "      <th>43</th>\n",
              "      <td>palu-tsunami</td>\n",
              "      <td>major-damage</td>\n",
              "      <td>1178</td>\n",
              "    </tr>\n",
              "    <tr>\n",
              "      <th>44</th>\n",
              "      <td>palu-tsunami</td>\n",
              "      <td>minor-damage</td>\n",
              "      <td>1</td>\n",
              "    </tr>\n",
              "    <tr>\n",
              "      <th>45</th>\n",
              "      <td>palu-tsunami</td>\n",
              "      <td>no-damage</td>\n",
              "      <td>46796</td>\n",
              "    </tr>\n",
              "    <tr>\n",
              "      <th>47</th>\n",
              "      <td>palu-tsunami</td>\n",
              "      <td>un-classified</td>\n",
              "      <td>611</td>\n",
              "    </tr>\n",
              "    <tr>\n",
              "      <th>48</th>\n",
              "      <td>santa-rosa-wildfire</td>\n",
              "      <td>destroyed</td>\n",
              "      <td>5810</td>\n",
              "    </tr>\n",
              "    <tr>\n",
              "      <th>49</th>\n",
              "      <td>santa-rosa-wildfire</td>\n",
              "      <td>major-damage</td>\n",
              "      <td>95</td>\n",
              "    </tr>\n",
              "    <tr>\n",
              "      <th>50</th>\n",
              "      <td>santa-rosa-wildfire</td>\n",
              "      <td>minor-damage</td>\n",
              "      <td>121</td>\n",
              "    </tr>\n",
              "    <tr>\n",
              "      <th>51</th>\n",
              "      <td>santa-rosa-wildfire</td>\n",
              "      <td>no-damage</td>\n",
              "      <td>15843</td>\n",
              "    </tr>\n",
              "    <tr>\n",
              "      <th>53</th>\n",
              "      <td>santa-rosa-wildfire</td>\n",
              "      <td>un-classified</td>\n",
              "      <td>86</td>\n",
              "    </tr>\n",
              "    <tr>\n",
              "      <th>54</th>\n",
              "      <td>socal-fire</td>\n",
              "      <td>destroyed</td>\n",
              "      <td>2333</td>\n",
              "    </tr>\n",
              "    <tr>\n",
              "      <th>55</th>\n",
              "      <td>socal-fire</td>\n",
              "      <td>major-damage</td>\n",
              "      <td>110</td>\n",
              "    </tr>\n",
              "    <tr>\n",
              "      <th>56</th>\n",
              "      <td>socal-fire</td>\n",
              "      <td>minor-damage</td>\n",
              "      <td>136</td>\n",
              "    </tr>\n",
              "    <tr>\n",
              "      <th>57</th>\n",
              "      <td>socal-fire</td>\n",
              "      <td>no-damage</td>\n",
              "      <td>15697</td>\n",
              "    </tr>\n",
              "    <tr>\n",
              "      <th>59</th>\n",
              "      <td>socal-fire</td>\n",
              "      <td>un-classified</td>\n",
              "      <td>693</td>\n",
              "    </tr>\n",
              "  </tbody>\n",
              "</table>\n",
              "</div>\n",
              "      <button class=\"colab-df-convert\" onclick=\"convertToInteractive('df-1ffe8b09-f578-4cec-868f-59b0de724d76')\"\n",
              "              title=\"Convert this dataframe to an interactive table.\"\n",
              "              style=\"display:none;\">\n",
              "        \n",
              "  <svg xmlns=\"http://www.w3.org/2000/svg\" height=\"24px\"viewBox=\"0 0 24 24\"\n",
              "       width=\"24px\">\n",
              "    <path d=\"M0 0h24v24H0V0z\" fill=\"none\"/>\n",
              "    <path d=\"M18.56 5.44l.94 2.06.94-2.06 2.06-.94-2.06-.94-.94-2.06-.94 2.06-2.06.94zm-11 1L8.5 8.5l.94-2.06 2.06-.94-2.06-.94L8.5 2.5l-.94 2.06-2.06.94zm10 10l.94 2.06.94-2.06 2.06-.94-2.06-.94-.94-2.06-.94 2.06-2.06.94z\"/><path d=\"M17.41 7.96l-1.37-1.37c-.4-.4-.92-.59-1.43-.59-.52 0-1.04.2-1.43.59L10.3 9.45l-7.72 7.72c-.78.78-.78 2.05 0 2.83L4 21.41c.39.39.9.59 1.41.59.51 0 1.02-.2 1.41-.59l7.78-7.78 2.81-2.81c.8-.78.8-2.07 0-2.86zM5.41 20L4 18.59l7.72-7.72 1.47 1.35L5.41 20z\"/>\n",
              "  </svg>\n",
              "      </button>\n",
              "      \n",
              "  <style>\n",
              "    .colab-df-container {\n",
              "      display:flex;\n",
              "      flex-wrap:wrap;\n",
              "      gap: 12px;\n",
              "    }\n",
              "\n",
              "    .colab-df-convert {\n",
              "      background-color: #E8F0FE;\n",
              "      border: none;\n",
              "      border-radius: 50%;\n",
              "      cursor: pointer;\n",
              "      display: none;\n",
              "      fill: #1967D2;\n",
              "      height: 32px;\n",
              "      padding: 0 0 0 0;\n",
              "      width: 32px;\n",
              "    }\n",
              "\n",
              "    .colab-df-convert:hover {\n",
              "      background-color: #E2EBFA;\n",
              "      box-shadow: 0px 1px 2px rgba(60, 64, 67, 0.3), 0px 1px 3px 1px rgba(60, 64, 67, 0.15);\n",
              "      fill: #174EA6;\n",
              "    }\n",
              "\n",
              "    [theme=dark] .colab-df-convert {\n",
              "      background-color: #3B4455;\n",
              "      fill: #D2E3FC;\n",
              "    }\n",
              "\n",
              "    [theme=dark] .colab-df-convert:hover {\n",
              "      background-color: #434B5C;\n",
              "      box-shadow: 0px 1px 3px 1px rgba(0, 0, 0, 0.15);\n",
              "      filter: drop-shadow(0px 1px 2px rgba(0, 0, 0, 0.3));\n",
              "      fill: #FFFFFF;\n",
              "    }\n",
              "  </style>\n",
              "\n",
              "      <script>\n",
              "        const buttonEl =\n",
              "          document.querySelector('#df-1ffe8b09-f578-4cec-868f-59b0de724d76 button.colab-df-convert');\n",
              "        buttonEl.style.display =\n",
              "          google.colab.kernel.accessAllowed ? 'block' : 'none';\n",
              "\n",
              "        async function convertToInteractive(key) {\n",
              "          const element = document.querySelector('#df-1ffe8b09-f578-4cec-868f-59b0de724d76');\n",
              "          const dataTable =\n",
              "            await google.colab.kernel.invokeFunction('convertToInteractive',\n",
              "                                                     [key], {});\n",
              "          if (!dataTable) return;\n",
              "\n",
              "          const docLinkHtml = 'Like what you see? Visit the ' +\n",
              "            '<a target=\"_blank\" href=https://colab.research.google.com/notebooks/data_table.ipynb>data table notebook</a>'\n",
              "            + ' to learn more about interactive tables.';\n",
              "          element.innerHTML = '';\n",
              "          dataTable['output_type'] = 'display_data';\n",
              "          await google.colab.output.renderOutput(dataTable, element);\n",
              "          const docLink = document.createElement('div');\n",
              "          docLink.innerHTML = docLinkHtml;\n",
              "          element.appendChild(docLink);\n",
              "        }\n",
              "      </script>\n",
              "    </div>\n",
              "  </div>\n",
              "  "
            ]
          },
          "metadata": {},
          "execution_count": 231
        }
      ]
    },
    {
      "cell_type": "code",
      "source": [
        "disaster_classes = grouped_multiple['disaster'].nunique()\n",
        "# print(num_classes)\n",
        "disaster_list = grouped_multiple['dmg_cat'].unique()\n",
        "\n",
        "x = np.arange(disaster_classes)  # the label locations\n",
        "width = 0.8/disaster_classes  # the width of the bars\n",
        "multiplier = 0\n",
        "\n",
        "fig, ax = plt.subplots(1, 1, figsize=(12, 6), dpi=150)\n",
        "\n",
        "for disaster in disaster_list:\n",
        "  unique_list=grouped_multiple['count'].loc[grouped_multiple['dmg_cat'] == disaster].tolist()\n",
        "  rect = ax.bar(x - (multiplier - 1) * width, unique_list, width, label=disaster)\n",
        "  multiplier += 1\n",
        " \n",
        "ax.set_ylabel('Building counts')\n",
        "ax.set_title('Distribution by building counts')\n",
        "ax.set_xticks(x)\n",
        "ax.set_xticklabels(grouped_multiple['disaster'].unique(), rotation=75)\n",
        "ax.legend()\n",
        "\n",
        "\n",
        "plt.show()\n",
        "\n"
      ],
      "metadata": {
        "colab": {
          "base_uri": "https://localhost:8080/",
          "height": 986
        },
        "id": "L7OSSGRazNJ2",
        "outputId": "9016a784-ee59-4e42-f67c-4127e2a8051b"
      },
      "execution_count": 248,
      "outputs": [
        {
          "output_type": "display_data",
          "data": {
            "text/plain": [
              "<Figure size 1800x900 with 1 Axes>"
            ],
            "image/png": "[encoded data removed]"
          },
          "metadata": {}
        }
      ]
    },
    {
      "cell_type": "markdown",
      "source": [
        "# New Section\n",
        "\n",
        "1.   List item\n",
        "2.   List item\n",
        "\n"
      ],
      "metadata": {
        "id": "oOMB_JtUHEY6"
      }
    }
  ]
}